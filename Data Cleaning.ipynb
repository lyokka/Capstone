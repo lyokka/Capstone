{
 "cells": [
  {
   "cell_type": "code",
   "execution_count": 1,
   "metadata": {
    "collapsed": false
   },
   "outputs": [],
   "source": [
    "# Data Cleaning\n",
    "# load data\n",
    "\n",
    "import pandas as pd\n",
    "\n",
    "df = pd.read_csv('0303_play.csv', engine = 'python')"
   ]
  },
  {
   "cell_type": "markdown",
   "metadata": {},
   "source": [
    "- user_id: user's id\n",
    "- user_os: user's platform, e.g. ar(android), ip(iphone)\n",
    "- muscis_id: songs's id\n",
    "- music_type: \n",
    "    - 0: Kuwo danqu\n",
    "    - 1: Kuwo MV\n",
    "    - 2: song from others\n",
    "- music_name: song's name\n",
    "- singer: singer's name\n",
    "- play_len: length of song played by user\n",
    "- music_len; length of song\n",
    "- pay: 1 if need payment, 0 else"
   ]
  },
  {
   "cell_type": "code",
   "execution_count": 2,
   "metadata": {
    "collapsed": false,
    "scrolled": true
   },
   "outputs": [
    {
     "data": {
      "text/html": [
       "<div>\n",
       "<table border=\"1\" class=\"dataframe\">\n",
       "  <thead>\n",
       "    <tr style=\"text-align: right;\">\n",
       "      <th></th>\n",
       "      <th>user_id</th>\n",
       "      <th>user_os</th>\n",
       "      <th>music_id</th>\n",
       "      <th>music_type</th>\n",
       "      <th>music_name</th>\n",
       "      <th>singer</th>\n",
       "      <th>play_len</th>\n",
       "      <th>music_len</th>\n",
       "      <th>pay</th>\n",
       "    </tr>\n",
       "  </thead>\n",
       "  <tbody>\n",
       "    <tr>\n",
       "      <th>0</th>\n",
       "      <td>154750654</td>\n",
       "      <td>ar</td>\n",
       "      <td>10740680</td>\n",
       "      <td>0</td>\n",
       "      <td>胸是软绵绵的</td>\n",
       "      <td>MC马克</td>\n",
       "      <td>76</td>\n",
       "      <td>0</td>\n",
       "      <td>0.0</td>\n",
       "    </tr>\n",
       "    <tr>\n",
       "      <th>1</th>\n",
       "      <td>154711780</td>\n",
       "      <td>ar</td>\n",
       "      <td>4540711</td>\n",
       "      <td>0</td>\n",
       "      <td>主啊_我赞美你</td>\n",
       "      <td>网络歌手</td>\n",
       "      <td>178</td>\n",
       "      <td>178</td>\n",
       "      <td>0.0</td>\n",
       "    </tr>\n",
       "    <tr>\n",
       "      <th>2</th>\n",
       "      <td>154745979</td>\n",
       "      <td>ar</td>\n",
       "      <td>6309425</td>\n",
       "      <td>0</td>\n",
       "      <td>匆匆那年(小品)</td>\n",
       "      <td>刘金霏&amp;徐滔&amp;侯振鹏&amp;陈印泉&amp;陈曦[相声]</td>\n",
       "      <td>1104</td>\n",
       "      <td>1104</td>\n",
       "      <td>0.0</td>\n",
       "    </tr>\n",
       "    <tr>\n",
       "      <th>3</th>\n",
       "      <td>154537507</td>\n",
       "      <td>ar</td>\n",
       "      <td>6664755</td>\n",
       "      <td>0</td>\n",
       "      <td>有一种爱叫做不离不弃</td>\n",
       "      <td>六哲&amp;孟杨</td>\n",
       "      <td>14</td>\n",
       "      <td>277</td>\n",
       "      <td>0.0</td>\n",
       "    </tr>\n",
       "    <tr>\n",
       "      <th>4</th>\n",
       "      <td>154559161</td>\n",
       "      <td>ip</td>\n",
       "      <td>11119785</td>\n",
       "      <td>0</td>\n",
       "      <td>There Are Witches Among Us \\/ The Bank \\/ The ...</td>\n",
       "      <td>James Newton Howard</td>\n",
       "      <td>32</td>\n",
       "      <td>414</td>\n",
       "      <td>0.0</td>\n",
       "    </tr>\n",
       "  </tbody>\n",
       "</table>\n",
       "</div>"
      ],
      "text/plain": [
       "      user_id user_os   music_id music_type  \\\n",
       "0  154750654      ar   10740680          0    \n",
       "1  154711780      ar    4540711          0    \n",
       "2  154745979      ar    6309425          0    \n",
       "3  154537507      ar    6664755          0    \n",
       "4  154559161      ip   11119785          0    \n",
       "\n",
       "                                          music_name                  singer  \\\n",
       "0                                            胸是软绵绵的                    MC马克    \n",
       "1                                           主啊_我赞美你                    网络歌手    \n",
       "2                                          匆匆那年(小品)   刘金霏&徐滔&侯振鹏&陈印泉&陈曦[相声]    \n",
       "3                                        有一种爱叫做不离不弃                   六哲&孟杨    \n",
       "4  There Are Witches Among Us \\/ The Bank \\/ The ...    James Newton Howard    \n",
       "\n",
       "  play_len music_len  pay  \n",
       "0      76         0   0.0  \n",
       "1     178       178   0.0  \n",
       "2    1104      1104   0.0  \n",
       "3      14       277   0.0  \n",
       "4      32       414   0.0  "
      ]
     },
     "execution_count": 2,
     "metadata": {},
     "output_type": "execute_result"
    }
   ],
   "source": [
    "# display data\n",
    "df.head()"
   ]
  },
  {
   "cell_type": "code",
   "execution_count": 3,
   "metadata": {
    "collapsed": false,
    "scrolled": false
   },
   "outputs": [
    {
     "name": "stdout",
     "output_type": "stream",
     "text": [
      "<class 'pandas.core.frame.DataFrame'>\n",
      "RangeIndex: 1852999 entries, 0 to 1852998\n",
      "Data columns (total 9 columns):\n",
      "user_id       object\n",
      "user_os       object\n",
      "music_id      object\n",
      "music_type    object\n",
      "music_name    object\n",
      "singer        object\n",
      "play_len      object\n",
      "music_len     object\n",
      "pay           float64\n",
      "dtypes: float64(1), object(8)\n",
      "memory usage: 127.2+ MB\n"
     ]
    }
   ],
   "source": [
    "# display raw data info\n",
    "df.info()"
   ]
  },
  {
   "cell_type": "code",
   "execution_count": 4,
   "metadata": {
    "collapsed": false
   },
   "outputs": [
    {
     "data": {
      "text/plain": [
       "user_id          0\n",
       "user_os          4\n",
       "music_id         4\n",
       "music_type       4\n",
       "music_name     520\n",
       "singer        1036\n",
       "play_len      1036\n",
       "music_len     1036\n",
       "pay           1036\n",
       "dtype: int64"
      ]
     },
     "execution_count": 4,
     "metadata": {},
     "output_type": "execute_result"
    }
   ],
   "source": [
    "# find NAs\n",
    "df.isnull().sum()"
   ]
  },
  {
   "cell_type": "code",
   "execution_count": 5,
   "metadata": {
    "collapsed": false
   },
   "outputs": [
    {
     "data": {
      "text/plain": [
       "(1852999, 9)"
      ]
     },
     "execution_count": 5,
     "metadata": {},
     "output_type": "execute_result"
    }
   ],
   "source": [
    "df.shape"
   ]
  },
  {
   "cell_type": "code",
   "execution_count": 6,
   "metadata": {
    "collapsed": false
   },
   "outputs": [
    {
     "data": {
      "text/html": [
       "<div>\n",
       "<table border=\"1\" class=\"dataframe\">\n",
       "  <thead>\n",
       "    <tr style=\"text-align: right;\">\n",
       "      <th></th>\n",
       "      <th>user_id</th>\n",
       "      <th>user_os</th>\n",
       "      <th>music_id</th>\n",
       "      <th>music_type</th>\n",
       "      <th>music_name</th>\n",
       "      <th>singer</th>\n",
       "      <th>play_len</th>\n",
       "      <th>music_len</th>\n",
       "      <th>pay</th>\n",
       "    </tr>\n",
       "  </thead>\n",
       "  <tbody>\n",
       "    <tr>\n",
       "      <th>24170</th>\n",
       "      <td>154535974</td>\n",
       "      <td>ar</td>\n",
       "      <td>6173476</td>\n",
       "      <td>0</td>\n",
       "      <td>如意(32秒铃声版)</td>\n",
       "      <td>NaN</td>\n",
       "      <td>NaN</td>\n",
       "      <td>NaN</td>\n",
       "      <td>NaN</td>\n",
       "    </tr>\n",
       "    <tr>\n",
       "      <th>24171</th>\n",
       "      <td>少司命</td>\n",
       "      <td>33</td>\n",
       "      <td>33</td>\n",
       "      <td>0</td>\n",
       "      <td>NaN</td>\n",
       "      <td>NaN</td>\n",
       "      <td>NaN</td>\n",
       "      <td>NaN</td>\n",
       "      <td>NaN</td>\n",
       "    </tr>\n",
       "    <tr>\n",
       "      <th>28429</th>\n",
       "      <td>154456752</td>\n",
       "      <td>ar</td>\n",
       "      <td></td>\n",
       "      <td></td>\n",
       "      <td>李克勤</td>\n",
       "      <td>NaN</td>\n",
       "      <td>NaN</td>\n",
       "      <td>NaN</td>\n",
       "      <td>NaN</td>\n",
       "    </tr>\n",
       "    <tr>\n",
       "      <th>28430</th>\n",
       "      <td>(116.249.186.248)TM</td>\n",
       "      <td></td>\n",
       "      <td></td>\n",
       "      <td>0</td>\n",
       "      <td>NaN</td>\n",
       "      <td>NaN</td>\n",
       "      <td>NaN</td>\n",
       "      <td>NaN</td>\n",
       "      <td>NaN</td>\n",
       "    </tr>\n",
       "    <tr>\n",
       "      <th>46936</th>\n",
       "      <td>68906359</td>\n",
       "      <td>ar</td>\n",
       "      <td>6112220</td>\n",
       "      <td>0</td>\n",
       "      <td>一个人的街(28秒铃声版).</td>\n",
       "      <td>NaN</td>\n",
       "      <td>NaN</td>\n",
       "      <td>NaN</td>\n",
       "      <td>NaN</td>\n",
       "    </tr>\n",
       "    <tr>\n",
       "      <th>46937</th>\n",
       "      <td>欢子</td>\n",
       "      <td>28</td>\n",
       "      <td>28</td>\n",
       "      <td>0</td>\n",
       "      <td>NaN</td>\n",
       "      <td>NaN</td>\n",
       "      <td>NaN</td>\n",
       "      <td>NaN</td>\n",
       "      <td>NaN</td>\n",
       "    </tr>\n",
       "    <tr>\n",
       "      <th>49128</th>\n",
       "      <td>154683777</td>\n",
       "      <td>ar</td>\n",
       "      <td>7129288</td>\n",
       "      <td>0</td>\n",
       "      <td>不完美女孩(52秒铃声版)</td>\n",
       "      <td>NaN</td>\n",
       "      <td>NaN</td>\n",
       "      <td>NaN</td>\n",
       "      <td>NaN</td>\n",
       "    </tr>\n",
       "    <tr>\n",
       "      <th>49129</th>\n",
       "      <td>周冬雨</td>\n",
       "      <td>52</td>\n",
       "      <td>52</td>\n",
       "      <td>0</td>\n",
       "      <td>NaN</td>\n",
       "      <td>NaN</td>\n",
       "      <td>NaN</td>\n",
       "      <td>NaN</td>\n",
       "      <td>NaN</td>\n",
       "    </tr>\n",
       "    <tr>\n",
       "      <th>53030</th>\n",
       "      <td>154456752</td>\n",
       "      <td>ar</td>\n",
       "      <td>6892674</td>\n",
       "      <td>0</td>\n",
       "      <td>李克勤</td>\n",
       "      <td>NaN</td>\n",
       "      <td>NaN</td>\n",
       "      <td>NaN</td>\n",
       "      <td>NaN</td>\n",
       "    </tr>\n",
       "    <tr>\n",
       "      <th>53031</th>\n",
       "      <td>遥远的她(58秒铃声版)</td>\n",
       "      <td>59</td>\n",
       "      <td>58</td>\n",
       "      <td>0</td>\n",
       "      <td>NaN</td>\n",
       "      <td>NaN</td>\n",
       "      <td>NaN</td>\n",
       "      <td>NaN</td>\n",
       "      <td>NaN</td>\n",
       "    </tr>\n",
       "  </tbody>\n",
       "</table>\n",
       "</div>"
      ],
      "text/plain": [
       "                    user_id user_os  music_id music_type      music_name  \\\n",
       "24170            154535974      ar   6173476          0       如意(32秒铃声版)   \n",
       "24171                  少司命      33        33           0             NaN   \n",
       "28429            154456752      ar                                   李克勤   \n",
       "28430  (116.249.186.248)TM                             0             NaN   \n",
       "46936             68906359      ar   6112220          0   一个人的街(28秒铃声版).   \n",
       "46937                   欢子      28        28           0             NaN   \n",
       "49128            154683777      ar   7129288          0    不完美女孩(52秒铃声版)   \n",
       "49129                  周冬雨      52        52           0             NaN   \n",
       "53030            154456752      ar   6892674          0              李克勤   \n",
       "53031         遥远的她(58秒铃声版)      59        58           0             NaN   \n",
       "\n",
       "      singer play_len music_len  pay  \n",
       "24170    NaN      NaN       NaN  NaN  \n",
       "24171    NaN      NaN       NaN  NaN  \n",
       "28429    NaN      NaN       NaN  NaN  \n",
       "28430    NaN      NaN       NaN  NaN  \n",
       "46936    NaN      NaN       NaN  NaN  \n",
       "46937    NaN      NaN       NaN  NaN  \n",
       "49128    NaN      NaN       NaN  NaN  \n",
       "49129    NaN      NaN       NaN  NaN  \n",
       "53030    NaN      NaN       NaN  NaN  \n",
       "53031    NaN      NaN       NaN  NaN  "
      ]
     },
     "execution_count": 6,
     "metadata": {},
     "output_type": "execute_result"
    }
   ],
   "source": [
    "df_na = df[df.isnull().any(axis=1)]\n",
    "df_na.head(10)"
   ]
  },
  {
   "cell_type": "code",
   "execution_count": 7,
   "metadata": {
    "collapsed": false
   },
   "outputs": [
    {
     "data": {
      "text/plain": [
       "(1036, 9)"
      ]
     },
     "execution_count": 7,
     "metadata": {},
     "output_type": "execute_result"
    }
   ],
   "source": [
    "df_na.shape"
   ]
  },
  {
   "cell_type": "code",
   "execution_count": 10,
   "metadata": {
    "collapsed": false
   },
   "outputs": [
    {
     "data": {
      "text/html": [
       "<div>\n",
       "<table border=\"1\" class=\"dataframe\">\n",
       "  <thead>\n",
       "    <tr style=\"text-align: right;\">\n",
       "      <th></th>\n",
       "      <th>user_id</th>\n",
       "      <th>user_os</th>\n",
       "      <th>music_id</th>\n",
       "      <th>music_type</th>\n",
       "    </tr>\n",
       "  </thead>\n",
       "  <tbody>\n",
       "    <tr>\n",
       "      <th>24170</th>\n",
       "      <td>154535974</td>\n",
       "      <td>ar</td>\n",
       "      <td>6173476</td>\n",
       "      <td>0</td>\n",
       "    </tr>\n",
       "    <tr>\n",
       "      <th>28429</th>\n",
       "      <td>154456752</td>\n",
       "      <td>ar</td>\n",
       "      <td></td>\n",
       "      <td></td>\n",
       "    </tr>\n",
       "    <tr>\n",
       "      <th>46936</th>\n",
       "      <td>68906359</td>\n",
       "      <td>ar</td>\n",
       "      <td>6112220</td>\n",
       "      <td>0</td>\n",
       "    </tr>\n",
       "    <tr>\n",
       "      <th>49128</th>\n",
       "      <td>154683777</td>\n",
       "      <td>ar</td>\n",
       "      <td>7129288</td>\n",
       "      <td>0</td>\n",
       "    </tr>\n",
       "    <tr>\n",
       "      <th>53030</th>\n",
       "      <td>154456752</td>\n",
       "      <td>ar</td>\n",
       "      <td>6892674</td>\n",
       "      <td>0</td>\n",
       "    </tr>\n",
       "  </tbody>\n",
       "</table>\n",
       "</div>"
      ],
      "text/plain": [
       "          user_id user_os  music_id music_type\n",
       "24170  154535974      ar   6173476          0 \n",
       "28429  154456752      ar                      \n",
       "46936   68906359      ar   6112220          0 \n",
       "49128  154683777      ar   7129288          0 \n",
       "53030  154456752      ar   6892674          0 "
      ]
     },
     "execution_count": 10,
     "metadata": {},
     "output_type": "execute_result"
    }
   ],
   "source": [
    "df_na.loc[24170::2,'user_id':'music_type'].head()"
   ]
  },
  {
   "cell_type": "code",
   "execution_count": 12,
   "metadata": {
    "collapsed": false,
    "scrolled": true
   },
   "outputs": [
    {
     "data": {
      "text/html": [
       "<div>\n",
       "<table border=\"1\" class=\"dataframe\">\n",
       "  <thead>\n",
       "    <tr style=\"text-align: right;\">\n",
       "      <th></th>\n",
       "      <th>user_id</th>\n",
       "      <th>user_os</th>\n",
       "      <th>music_id</th>\n",
       "      <th>music_type</th>\n",
       "    </tr>\n",
       "  </thead>\n",
       "  <tbody>\n",
       "    <tr>\n",
       "      <th>24171</th>\n",
       "      <td>少司命</td>\n",
       "      <td>33</td>\n",
       "      <td>33</td>\n",
       "      <td>0</td>\n",
       "    </tr>\n",
       "    <tr>\n",
       "      <th>28430</th>\n",
       "      <td>(116.249.186.248)TM</td>\n",
       "      <td></td>\n",
       "      <td></td>\n",
       "      <td>0</td>\n",
       "    </tr>\n",
       "    <tr>\n",
       "      <th>46937</th>\n",
       "      <td>欢子</td>\n",
       "      <td>28</td>\n",
       "      <td>28</td>\n",
       "      <td>0</td>\n",
       "    </tr>\n",
       "    <tr>\n",
       "      <th>49129</th>\n",
       "      <td>周冬雨</td>\n",
       "      <td>52</td>\n",
       "      <td>52</td>\n",
       "      <td>0</td>\n",
       "    </tr>\n",
       "    <tr>\n",
       "      <th>53031</th>\n",
       "      <td>遥远的她(58秒铃声版)</td>\n",
       "      <td>59</td>\n",
       "      <td>58</td>\n",
       "      <td>0</td>\n",
       "    </tr>\n",
       "  </tbody>\n",
       "</table>\n",
       "</div>"
      ],
      "text/plain": [
       "                    user_id user_os music_id music_type\n",
       "24171                  少司命      33       33           0\n",
       "28430  (116.249.186.248)TM                            0\n",
       "46937                   欢子      28       28           0\n",
       "49129                  周冬雨      52       52           0\n",
       "53031         遥远的她(58秒铃声版)      59       58           0"
      ]
     },
     "execution_count": 12,
     "metadata": {},
     "output_type": "execute_result"
    }
   ],
   "source": [
    "df_na.loc[24171::2, 'user_id':'music_type'].head()"
   ]
  },
  {
   "cell_type": "code",
   "execution_count": 13,
   "metadata": {
    "collapsed": false
   },
   "outputs": [],
   "source": [
    "df_na_p1 = df_na.loc[15046::2,:].drop(df_na.columns[5:], axis = 1)\n",
    "df_na_p2 = df_na.loc[15047::2,:].drop(df_na.columns[4:], axis = 1)\n",
    "df_na_p2 = df_na_p2.set_index(df_na_p1.index)"
   ]
  },
  {
   "cell_type": "code",
   "execution_count": 14,
   "metadata": {
    "collapsed": false,
    "scrolled": false
   },
   "outputs": [],
   "source": [
    "df_part = pd.concat([df_na_p1, df_na_p2], axis=1)\n",
    "df_part = df_part.dropna(axis = 0)\n",
    "df_part.columns = df.columns"
   ]
  },
  {
   "cell_type": "code",
   "execution_count": 15,
   "metadata": {
    "collapsed": false
   },
   "outputs": [
    {
     "name": "stdout",
     "output_type": "stream",
     "text": [
      "(1851963, 9)\n"
     ]
    }
   ],
   "source": [
    "df = df.dropna(axis=0)\n",
    "print(df.shape)"
   ]
  },
  {
   "cell_type": "code",
   "execution_count": 16,
   "metadata": {
    "collapsed": false,
    "scrolled": false
   },
   "outputs": [
    {
     "name": "stdout",
     "output_type": "stream",
     "text": [
      "user_id       0\n",
      "user_os       0\n",
      "music_id      0\n",
      "music_type    0\n",
      "music_name    0\n",
      "singer        0\n",
      "play_len      0\n",
      "music_len     0\n",
      "pay           0\n",
      "dtype: int64\n"
     ]
    }
   ],
   "source": [
    "df = pd.concat([df, df_part])\n",
    "print(df.isnull().sum())"
   ]
  },
  {
   "cell_type": "code",
   "execution_count": 17,
   "metadata": {
    "collapsed": false
   },
   "outputs": [
    {
     "name": "stderr",
     "output_type": "stream",
     "text": [
      "/home/ye/anaconda3/lib/python3.6/site-packages/ipykernel/__main__.py:4: UserWarning: This pattern has match groups. To actually get the groups, use str.extract.\n"
     ]
    },
    {
     "data": {
      "text/html": [
       "<div>\n",
       "<table border=\"1\" class=\"dataframe\">\n",
       "  <thead>\n",
       "    <tr style=\"text-align: right;\">\n",
       "      <th></th>\n",
       "      <th>user_id</th>\n",
       "      <th>user_os</th>\n",
       "      <th>music_id</th>\n",
       "      <th>music_type</th>\n",
       "      <th>music_name</th>\n",
       "      <th>singer</th>\n",
       "      <th>play_len</th>\n",
       "      <th>music_len</th>\n",
       "      <th>pay</th>\n",
       "    </tr>\n",
       "  </thead>\n",
       "  <tbody>\n",
       "    <tr>\n",
       "      <th>98</th>\n",
       "      <td>154418405</td>\n",
       "      <td>ar</td>\n",
       "      <td>4855774</td>\n",
       "      <td>2</td>\n",
       "      <td>想你啦</td>\n",
       "      <td>龙梅子</td>\n",
       "      <td>4&gt;(117.136.16.187)TM</td>\n",
       "      <td>254</td>\n",
       "      <td>0</td>\n",
       "    </tr>\n",
       "    <tr>\n",
       "      <th>218</th>\n",
       "      <td>154407692</td>\n",
       "      <td>ar</td>\n",
       "      <td>15183680</td>\n",
       "      <td>2</td>\n",
       "      <td>萌妹纸超赞翻唱Let Me Love You &amp; Faded</td>\n",
       "      <td>J.Fla</td>\n",
       "      <td>67&gt;=(14.113.252.223)TM</td>\n",
       "      <td>146</td>\n",
       "      <td>0</td>\n",
       "    </tr>\n",
       "    <tr>\n",
       "      <th>700</th>\n",
       "      <td>154430543</td>\n",
       "      <td>ar</td>\n",
       "      <td>7143187</td>\n",
       "      <td>2</td>\n",
       "      <td>I Like That</td>\n",
       "      <td>Sistar</td>\n",
       "      <td>13&gt;(123.11.87.34)TM</td>\n",
       "      <td>239</td>\n",
       "      <td>0</td>\n",
       "    </tr>\n",
       "    <tr>\n",
       "      <th>774</th>\n",
       "      <td>1685126</td>\n",
       "      <td>ar</td>\n",
       "      <td>6739482</td>\n",
       "      <td>2</td>\n",
       "      <td>妈妈月亮爸爸太阳</td>\n",
       "      <td>熊孩子</td>\n",
       "      <td>5&gt;(125.45.29.183)TM</td>\n",
       "      <td>131</td>\n",
       "      <td>0</td>\n",
       "    </tr>\n",
       "    <tr>\n",
       "      <th>827</th>\n",
       "      <td>154415149</td>\n",
       "      <td>ar</td>\n",
       "      <td>20722859</td>\n",
       "      <td>2</td>\n",
       "      <td>敢&amp;nbsp;Roleplay</td>\n",
       "      <td>鹿晗</td>\n",
       "      <td>7&gt;(222.125.193.100)TM</td>\n",
       "      <td>163</td>\n",
       "      <td>0</td>\n",
       "    </tr>\n",
       "  </tbody>\n",
       "</table>\n",
       "</div>"
      ],
      "text/plain": [
       "        user_id user_os   music_id music_type  \\\n",
       "98   154418405      ar    4855774          2    \n",
       "218  154407692      ar   15183680          2    \n",
       "700  154430543      ar    7143187          2    \n",
       "774    1685126      ar    6739482          2    \n",
       "827  154415149      ar   20722859          2    \n",
       "\n",
       "                          music_name   singer                 play_len  \\\n",
       "98                              想你啦      龙梅子     4>(117.136.16.187)TM    \n",
       "218  萌妹纸超赞翻唱Let Me Love You & Faded    J.Fla   67>=(14.113.252.223)TM    \n",
       "700                     I Like That   Sistar      13>(123.11.87.34)TM    \n",
       "774                        妈妈月亮爸爸太阳      熊孩子      5>(125.45.29.183)TM    \n",
       "827                 敢&nbsp;Roleplay       鹿晗    7>(222.125.193.100)TM    \n",
       "\n",
       "    music_len pay  \n",
       "98       254    0  \n",
       "218      146    0  \n",
       "700      239    0  \n",
       "774      131    0  \n",
       "827      163    0  "
      ]
     },
     "execution_count": 17,
     "metadata": {},
     "output_type": "execute_result"
    }
   ],
   "source": [
    "# play_len invalid format\n",
    "# e.g.  5>(39.150.202.48)TM\n",
    "#       4>\u000f}(39.168.170.56)TM\n",
    "df_ip1 = df[df['play_len'].str.contains(\"(\\d+[.]\\d+[.]\\d+[.]\\d+)\")]\n",
    "df_ip1.head()"
   ]
  },
  {
   "cell_type": "code",
   "execution_count": 18,
   "metadata": {
    "collapsed": false
   },
   "outputs": [
    {
     "data": {
      "text/plain": [
       "(8553, 9)"
      ]
     },
     "execution_count": 18,
     "metadata": {},
     "output_type": "execute_result"
    }
   ],
   "source": [
    "df_ip1.shape"
   ]
  },
  {
   "cell_type": "code",
   "execution_count": 19,
   "metadata": {
    "collapsed": false,
    "scrolled": true
   },
   "outputs": [
    {
     "name": "stderr",
     "output_type": "stream",
     "text": [
      "/home/ye/anaconda3/lib/python3.6/site-packages/ipykernel/__main__.py:1: UserWarning: This pattern has match groups. To actually get the groups, use str.extract.\n",
      "  if __name__ == '__main__':\n"
     ]
    },
    {
     "data": {
      "text/html": [
       "<div>\n",
       "<table border=\"1\" class=\"dataframe\">\n",
       "  <thead>\n",
       "    <tr style=\"text-align: right;\">\n",
       "      <th></th>\n",
       "      <th>user_id</th>\n",
       "      <th>user_os</th>\n",
       "      <th>music_id</th>\n",
       "      <th>music_type</th>\n",
       "      <th>music_name</th>\n",
       "      <th>singer</th>\n",
       "      <th>play_len</th>\n",
       "      <th>music_len</th>\n",
       "      <th>pay</th>\n",
       "    </tr>\n",
       "  </thead>\n",
       "  <tbody>\n",
       "    <tr>\n",
       "      <th>85891</th>\n",
       "      <td>154464910</td>\n",
       "      <td>ar</td>\n",
       "      <td>1147548</td>\n",
       "      <td></td>\n",
       "      <td>等你等了那么久</td>\n",
       "      <td>祁隆</td>\n",
       "      <td></td>\n",
       "      <td>(112.112.124.163)TM</td>\n",
       "      <td>0</td>\n",
       "    </tr>\n",
       "    <tr>\n",
       "      <th>107130</th>\n",
       "      <td>154487724</td>\n",
       "      <td>ar</td>\n",
       "      <td>14428300</td>\n",
       "      <td></td>\n",
       "      <td>On écrit sur les murs</td>\n",
       "      <td>Kids United</td>\n",
       "      <td></td>\n",
       "      <td>(118.112.56.146)TM</td>\n",
       "      <td>0</td>\n",
       "    </tr>\n",
       "    <tr>\n",
       "      <th>115768</th>\n",
       "      <td>154464910</td>\n",
       "      <td>ar</td>\n",
       "      <td>6483699</td>\n",
       "      <td></td>\n",
       "      <td>又见山里红(混音版)</td>\n",
       "      <td>祁隆</td>\n",
       "      <td></td>\n",
       "      <td>3(112.112.124.163)TM</td>\n",
       "      <td>0</td>\n",
       "    </tr>\n",
       "    <tr>\n",
       "      <th>139731</th>\n",
       "      <td>154464910</td>\n",
       "      <td>ar</td>\n",
       "      <td>5746426</td>\n",
       "      <td></td>\n",
       "      <td>爱你一生</td>\n",
       "      <td>祁隆&amp;乐凡</td>\n",
       "      <td></td>\n",
       "      <td>19(112.112.124.163)TM</td>\n",
       "      <td>0</td>\n",
       "    </tr>\n",
       "    <tr>\n",
       "      <th>139778</th>\n",
       "      <td>154464910</td>\n",
       "      <td>ar</td>\n",
       "      <td>1149745</td>\n",
       "      <td></td>\n",
       "      <td>相思渡口</td>\n",
       "      <td>祁隆</td>\n",
       "      <td></td>\n",
       "      <td>230(112.112.124.163)TM</td>\n",
       "      <td>0</td>\n",
       "    </tr>\n",
       "  </tbody>\n",
       "</table>\n",
       "</div>"
      ],
      "text/plain": [
       "           user_id user_os   music_id music_type              music_name  \\\n",
       "85891   154464910      ar    1147548                            等你等了那么久    \n",
       "107130  154487724      ar   14428300              On écrit sur les murs    \n",
       "115768  154464910      ar    6483699                         又见山里红(混音版)    \n",
       "139731  154464910      ar    5746426                               爱你一生    \n",
       "139778  154464910      ar    1149745                               相思渡口    \n",
       "\n",
       "              singer play_len                music_len pay  \n",
       "85891            祁隆               (112.112.124.163)TM    0  \n",
       "107130  Kids United                (118.112.56.146)TM    0  \n",
       "115768           祁隆              3(112.112.124.163)TM    0  \n",
       "139731        祁隆&乐凡             19(112.112.124.163)TM    0  \n",
       "139778           祁隆            230(112.112.124.163)TM    0  "
      ]
     },
     "execution_count": 19,
     "metadata": {},
     "output_type": "execute_result"
    }
   ],
   "source": [
    "df_ip2 = df[df['music_len'].str.contains(\"(\\d+[.]\\d+[.]\\d+[.]\\d+)\")]\n",
    "df_ip2.head()"
   ]
  },
  {
   "cell_type": "code",
   "execution_count": 20,
   "metadata": {
    "collapsed": false
   },
   "outputs": [
    {
     "data": {
      "text/plain": [
       "(305, 9)"
      ]
     },
     "execution_count": 20,
     "metadata": {},
     "output_type": "execute_result"
    }
   ],
   "source": [
    "df_ip2.shape"
   ]
  },
  {
   "cell_type": "code",
   "execution_count": 21,
   "metadata": {
    "collapsed": false
   },
   "outputs": [],
   "source": [
    "# clean those format\n",
    "\n",
    "df['play_len'] = df['play_len'].str.replace('(\\d+[.]\\d+[.]\\d+[.]\\d+)', '') # remove e.g.: 124.166.255.76 \n",
    "df['play_len'] = df['play_len'].str.replace('([TM])', '') # remove e.g.: TM\n",
    "df['play_len'] = df['play_len'].str.replace('([\\>|\\(|\\)|\\=\\}])','') # remove > or ( or ) or = or }\n",
    "df['play_len'] = df['play_len'].str.replace('(\\s+)', '') # remove space\n",
    "df['play_len'] = df['play_len'].str.replace('(\\x0f)', '') # remove space\n",
    "\n",
    "df['music_len'] = df['music_len'].str.replace('(\\d+[.]\\d+[.]\\d+[.]\\d+)', '') # remove e.g.: 124.166.255.76 \n",
    "df['music_len'] = df['music_len'].str.replace('([TM])', '') # remove e.g.: TM\n",
    "df['music_len'] = df['music_len'].str.replace('([\\>|\\(|\\)|\\=\\}])','') # remove > or ( or ) or = or }\n",
    "df['music_len'] = df['music_len'].str.replace('(\\s+)', '') # remove space\n",
    "df['music_len'] = df['music_len'].str.replace('(\\x0f)', '') # remove space"
   ]
  },
  {
   "cell_type": "code",
   "execution_count": 22,
   "metadata": {
    "collapsed": true
   },
   "outputs": [],
   "source": [
    "df2 = df.copy(deep = True)\n",
    "#convert music_len play_len to float type\n",
    "df2[['play_len','music_len']] = df2[['play_len','music_len']].apply(pd.to_numeric, errors='coerce')"
   ]
  },
  {
   "cell_type": "code",
   "execution_count": 23,
   "metadata": {
    "collapsed": false
   },
   "outputs": [
    {
     "data": {
      "text/plain": [
       "user_id           0\n",
       "user_os           0\n",
       "music_id          0\n",
       "music_type        0\n",
       "music_name        0\n",
       "singer            0\n",
       "play_len      11151\n",
       "music_len      5183\n",
       "pay               0\n",
       "dtype: int64"
      ]
     },
     "execution_count": 23,
     "metadata": {},
     "output_type": "execute_result"
    }
   ],
   "source": [
    "df2.isnull().sum()"
   ]
  },
  {
   "cell_type": "code",
   "execution_count": 24,
   "metadata": {
    "collapsed": false
   },
   "outputs": [
    {
     "name": "stderr",
     "output_type": "stream",
     "text": [
      "/home/ye/anaconda3/lib/python3.6/site-packages/ipykernel/__main__.py:1: UserWarning: This pattern has match groups. To actually get the groups, use str.extract.\n",
      "  if __name__ == '__main__':\n",
      "/home/ye/anaconda3/lib/python3.6/site-packages/ipykernel/__main__.py:2: UserWarning: This pattern has match groups. To actually get the groups, use str.extract.\n",
      "  from ipykernel import kernelapp as app\n"
     ]
    }
   ],
   "source": [
    "df_play_bad = df[~df['play_len'].str.contains(\"(\\d+)\")]\n",
    "df_music_bad = df[~df['music_len'].str.contains(\"(\\d+)\")]"
   ]
  },
  {
   "cell_type": "code",
   "execution_count": 25,
   "metadata": {
    "collapsed": false
   },
   "outputs": [
    {
     "name": "stdout",
     "output_type": "stream",
     "text": [
      "['']\n",
      "['' 'enNararak' '分级加字幕轻松练听力' '春晚相声集锦' '周杰伦' 'ar']\n",
      "(11151, 9)\n",
      "(5183, 9)\n"
     ]
    }
   ],
   "source": [
    "print(df_music_bad['music_len'].unique())\n",
    "print(df_play_bad['play_len'].unique())\n",
    "print(df_play_bad.shape)\n",
    "print(df_music_bad.shape)"
   ]
  },
  {
   "cell_type": "code",
   "execution_count": 26,
   "metadata": {
    "collapsed": false,
    "scrolled": false
   },
   "outputs": [
    {
     "name": "stderr",
     "output_type": "stream",
     "text": [
      "/home/ye/anaconda3/lib/python3.6/site-packages/ipykernel/__main__.py:1: UserWarning: This pattern has match groups. To actually get the groups, use str.extract.\n",
      "  if __name__ == '__main__':\n",
      "/home/ye/anaconda3/lib/python3.6/site-packages/ipykernel/__main__.py:2: UserWarning: This pattern has match groups. To actually get the groups, use str.extract.\n",
      "  from ipykernel import kernelapp as app\n"
     ]
    }
   ],
   "source": [
    "df.loc[~df['play_len'].str.contains(\"(\\d+)\"), 'play_len'] = -1\n",
    "df.loc[~df['music_len'].str.contains(\"(\\d+)\"), 'music_len'] = -1\n"
   ]
  },
  {
   "cell_type": "code",
   "execution_count": 27,
   "metadata": {
    "collapsed": false
   },
   "outputs": [],
   "source": [
    "#convert music_len play_len to float type\n",
    "df[['play_len','music_len']] = df[['play_len','music_len']].apply(pd.to_numeric) #, errors='ignore')"
   ]
  },
  {
   "cell_type": "code",
   "execution_count": 28,
   "metadata": {
    "collapsed": false,
    "scrolled": true
   },
   "outputs": [
    {
     "data": {
      "text/plain": [
       "<matplotlib.axes._subplots.AxesSubplot at 0x7f8cb8096ba8>"
      ]
     },
     "execution_count": 28,
     "metadata": {},
     "output_type": "execute_result"
    },
    {
     "data": {
      "image/png": "[encoded data removed]",
      "text/plain": [
       "<matplotlib.figure.Figure at 0x7f8cb7f44940>"
      ]
     },
     "metadata": {},
     "output_type": "display_data"
    }
   ],
   "source": [
    "import matplotlib.pyplot as plt\n",
    "%matplotlib inline\n",
    "\n",
    "df[ ['play_len', 'music_len'] ].plot.box()"
   ]
  },
  {
   "cell_type": "code",
   "execution_count": 29,
   "metadata": {
    "collapsed": false
   },
   "outputs": [
    {
     "data": {
      "image/png": "[encoded data removed]",
      "text/plain": [
       "<matplotlib.figure.Figure at 0x7f8cb80a22b0>"
      ]
     },
     "metadata": {},
     "output_type": "display_data"
    }
   ],
   "source": [
    "df.plot.scatter(x='play_len', y='music_len');"
   ]
  },
  {
   "cell_type": "code",
   "execution_count": 30,
   "metadata": {
    "collapsed": false
   },
   "outputs": [
    {
     "name": "stdout",
     "output_type": "stream",
     "text": [
      "0.025       0.0\n",
      "0.975    2157.0\n",
      "Name: play_len, dtype: float64\n",
      "0.025      0.0\n",
      "0.975    494.0\n",
      "Name: music_len, dtype: float64\n"
     ]
    }
   ],
   "source": [
    "# find outlier\n",
    "print(df['play_len'].quantile([0.025, 0.975]))\n",
    "print(df['music_len'].quantile([0.025, 0.975]))"
   ]
  },
  {
   "cell_type": "code",
   "execution_count": 31,
   "metadata": {
    "collapsed": false
   },
   "outputs": [],
   "source": [
    "# just for visualize relationship between play_len and music_len\n",
    "df['long_play'] = df['play_len'] > 10000\n",
    "df['long_music'] = df['music_len'] > 6000"
   ]
  },
  {
   "cell_type": "code",
   "execution_count": 32,
   "metadata": {
    "collapsed": false
   },
   "outputs": [],
   "source": [
    "df_normal = df[(df['long_play'] == False) & (df['long_music'] == False) ]\n"
   ]
  },
  {
   "cell_type": "code",
   "execution_count": 33,
   "metadata": {
    "collapsed": false
   },
   "outputs": [
    {
     "data": {
      "image/png": "[encoded data removed]",
      "text/plain": [
       "<matplotlib.figure.Figure at 0x7f8cb7f44978>"
      ]
     },
     "metadata": {},
     "output_type": "display_data"
    }
   ],
   "source": [
    "df_normal.plot.scatter(x='play_len', y='music_len', alpha = 0.005);"
   ]
  },
  {
   "cell_type": "code",
   "execution_count": 34,
   "metadata": {
    "collapsed": true
   },
   "outputs": [],
   "source": [
    "# define new column long_play and long-music\n",
    "df['long_play'] = df['play_len'] > 1800\n",
    "df['long_music'] = df['music_len'] > 1800"
   ]
  },
  {
   "cell_type": "code",
   "execution_count": 35,
   "metadata": {
    "collapsed": true
   },
   "outputs": [],
   "source": [
    "df_normal2 = df[(df['long_play'] == False) & (df['long_music'] == False) ]\n"
   ]
  },
  {
   "cell_type": "code",
   "execution_count": 36,
   "metadata": {
    "collapsed": false
   },
   "outputs": [
    {
     "data": {
      "text/plain": [
       "<matplotlib.axes._subplots.AxesSubplot at 0x7f8cec04f6d8>"
      ]
     },
     "execution_count": 36,
     "metadata": {},
     "output_type": "execute_result"
    },
    {
     "data": {
      "image/png": "[encoded data removed]",
      "text/plain": [
       "<matplotlib.figure.Figure at 0x7f8ceb296208>"
      ]
     },
     "metadata": {},
     "output_type": "display_data"
    }
   ],
   "source": [
    "df_normal2[ ['play_len', 'music_len'] ].plot.box()"
   ]
  },
  {
   "cell_type": "code",
   "execution_count": 37,
   "metadata": {
    "collapsed": false
   },
   "outputs": [
    {
     "data": {
      "text/plain": [
       "<matplotlib.axes._subplots.AxesSubplot at 0x7f8cb87c5f60>"
      ]
     },
     "execution_count": 37,
     "metadata": {},
     "output_type": "execute_result"
    },
    {
     "data": {
      "image/png": "[encoded data removed]",
      "text/plain": [
       "<matplotlib.figure.Figure at 0x7f8cec096f98>"
      ]
     },
     "metadata": {},
     "output_type": "display_data"
    }
   ],
   "source": [
    "df_normal2['play_len'].plot.hist(bins = 20)"
   ]
  },
  {
   "cell_type": "code",
   "execution_count": 38,
   "metadata": {
    "collapsed": false
   },
   "outputs": [
    {
     "data": {
      "text/plain": [
       "<matplotlib.axes._subplots.AxesSubplot at 0x7f8cb86bf5c0>"
      ]
     },
     "execution_count": 38,
     "metadata": {},
     "output_type": "execute_result"
    },
    {
     "data": {
      "image/png": "[encoded data removed]",
      "text/plain": [
       "<matplotlib.figure.Figure at 0x7f8cb882b908>"
      ]
     },
     "metadata": {},
     "output_type": "display_data"
    }
   ],
   "source": [
    "df_normal2['music_len'].plot.hist(bins = 20)"
   ]
  },
  {
   "cell_type": "code",
   "execution_count": 39,
   "metadata": {
    "collapsed": false
   },
   "outputs": [
    {
     "data": {
      "text/plain": [
       "array([0.0, 415.0, 252.0, '0 ', ' '], dtype=object)"
      ]
     },
     "execution_count": 39,
     "metadata": {},
     "output_type": "execute_result"
    }
   ],
   "source": [
    "df['pay'].unique()"
   ]
  },
  {
   "cell_type": "code",
   "execution_count": 40,
   "metadata": {
    "collapsed": false,
    "scrolled": true
   },
   "outputs": [],
   "source": [
    "df['pay'] = df['pay'].apply(pd.to_numeric, errors = 'coerce')"
   ]
  },
  {
   "cell_type": "code",
   "execution_count": 41,
   "metadata": {
    "collapsed": false
   },
   "outputs": [],
   "source": [
    "df.loc[~( (df['pay'] == 1) | (df['pay'] == 0) ), 'pay'] = -1"
   ]
  },
  {
   "cell_type": "code",
   "execution_count": 42,
   "metadata": {
    "collapsed": false
   },
   "outputs": [
    {
     "name": "stdout",
     "output_type": "stream",
     "text": [
      "user_id       0\n",
      "user_os       0\n",
      "music_id      0\n",
      "music_type    0\n",
      "music_name    0\n",
      "singer        0\n",
      "play_len      0\n",
      "music_len     0\n",
      "pay           0\n",
      "long_play     0\n",
      "long_music    0\n",
      "dtype: int64\n"
     ]
    }
   ],
   "source": [
    "# check NAs\n",
    "dfNull = df.isnull()\n",
    "print( dfNull.sum(axis=0) )"
   ]
  },
  {
   "cell_type": "code",
   "execution_count": 43,
   "metadata": {
    "collapsed": false,
    "scrolled": true
   },
   "outputs": [
    {
     "data": {
      "text/plain": [
       "array(['0 ', '2 ', '1 ', ' ', '0(110.52.39.42)TM ', '1(222.172.183.77)TM ',\n",
       "       '3 ', '1(39.187.201.186)TM ', '(111.2.103.196)TM ',\n",
       "       '(111.19.78.218)TM ', '(39.174.74.62)TM ', '1(39.174.74.62)TM ',\n",
       "       '(61.166.185.227)TM ', '0(112.11.2.204)TM ', '0(39.188.137.197)TM ',\n",
       "       '(39.174.73.42)TM ', '0(39.174.72.84)TM ', '(39.187.201.133)TM ',\n",
       "       '(112.11.192.50)TM ', '2(221.13.1.131)TM ', '0(223.95.240.212)TM ',\n",
       "       '0(39.189.229.9)TM ', '(112.12.123.132)TM ', '(39.183.145.67)TM ',\n",
       "       '0(112.112.124.163)TM ', '(182.243.38.151)TM ',\n",
       "       '(39.187.200.41)TM ', '0(39.187.201.183)TM ', '0(39.191.0.152)TM ',\n",
       "       '0(111.19.112.144)TM ', '(114.106.26.149)TM ', '(114.104.22.89)TM ',\n",
       "       '0(112.117.189.19)TM ', '0(39.183.144.253)TM ',\n",
       "       '1(182.246.48.244)TM ', '(221.209.217.112)TM ', '(39.191.0.152)TM ',\n",
       "       '(117.148.117.241)TM ', '0(183.198.244.196)TM ',\n",
       "       '1(117.148.117.241)TM ', '0(112.11.85.143)TM ',\n",
       "       '0(223.95.49.177)TM ', '(112.11.2.204)TM ', '0(111.19.79.127)TM ',\n",
       "       '0(116.249.186.230)TM ', '0(111.19.78.47)TM ',\n",
       "       '(182.84.163.231)TM ', '(111.19.78.32)TM ', '0(221.4.150.21)TM ',\n",
       "       '0(220.165.215.34)TM ', '(112.12.122.55)TM ',\n",
       "       '0(117.148.124.197)TM ', '(220.165.215.34)TM ',\n",
       "       '0(39.183.142.63)TM '], dtype=object)"
      ]
     },
     "execution_count": 43,
     "metadata": {},
     "output_type": "execute_result"
    }
   ],
   "source": [
    "df['music_type'].unique()"
   ]
  },
  {
   "cell_type": "code",
   "execution_count": 44,
   "metadata": {
    "collapsed": true
   },
   "outputs": [],
   "source": [
    "# clean music_type\n",
    "df['music_type'] = df['music_type'].str.replace('(\\d+[.]\\d+[.]\\d+[.]\\d+)', '') # remove e.g.: 124.166.255.76 \n",
    "df['music_type'] = df['music_type'].str.replace('([TM])', '') # remove e.g.: TM\n",
    "df['music_type'] = df['music_type'].str.replace('([\\>|\\(|\\)|\\=\\}])','') # remove > or ( or ) or = or }\n",
    "df['music_type'] = df['music_type'].str.replace('(\\s+)', '') # remove space\n",
    "df['music_type'] = df['music_type'].str.replace('(\\x0f)', '') # remove space"
   ]
  },
  {
   "cell_type": "code",
   "execution_count": 45,
   "metadata": {
    "collapsed": false
   },
   "outputs": [
    {
     "data": {
      "text/plain": [
       "array(['0', '2', '1', '', '3'], dtype=object)"
      ]
     },
     "execution_count": 45,
     "metadata": {},
     "output_type": "execute_result"
    }
   ],
   "source": [
    "df['music_type'].unique()"
   ]
  },
  {
   "cell_type": "code",
   "execution_count": 46,
   "metadata": {
    "collapsed": false
   },
   "outputs": [],
   "source": [
    "df['music_type'] = df['music_type'].apply(pd.to_numeric)"
   ]
  },
  {
   "cell_type": "code",
   "execution_count": 47,
   "metadata": {
    "collapsed": false
   },
   "outputs": [
    {
     "name": "stdout",
     "output_type": "stream",
     "text": [
      "user_id          0\n",
      "user_os          0\n",
      "music_id         0\n",
      "music_type    7953\n",
      "music_name       0\n",
      "singer           0\n",
      "play_len         0\n",
      "music_len        0\n",
      "pay              0\n",
      "long_play        0\n",
      "long_music       0\n",
      "dtype: int64\n"
     ]
    }
   ],
   "source": [
    "# check NAs\n",
    "dfNull = df.isnull()\n",
    "print( dfNull.sum(axis=0) )"
   ]
  },
  {
   "cell_type": "code",
   "execution_count": 48,
   "metadata": {
    "collapsed": false
   },
   "outputs": [],
   "source": [
    "df = df.fillna(-1)"
   ]
  },
  {
   "cell_type": "code",
   "execution_count": 49,
   "metadata": {
    "collapsed": false
   },
   "outputs": [
    {
     "name": "stdout",
     "output_type": "stream",
     "text": [
      "user_id       0\n",
      "user_os       0\n",
      "music_id      0\n",
      "music_type    0\n",
      "music_name    0\n",
      "singer        0\n",
      "play_len      0\n",
      "music_len     0\n",
      "pay           0\n",
      "long_play     0\n",
      "long_music    0\n",
      "dtype: int64\n"
     ]
    }
   ],
   "source": [
    "# check NAs\n",
    "dfNull = df.isnull()\n",
    "print( dfNull.sum(axis=0) )"
   ]
  },
  {
   "cell_type": "code",
   "execution_count": 50,
   "metadata": {
    "collapsed": true
   },
   "outputs": [],
   "source": [
    "df['user_id'] = df['user_id'].apply(pd.to_numeric)"
   ]
  },
  {
   "cell_type": "code",
   "execution_count": 51,
   "metadata": {
    "collapsed": false
   },
   "outputs": [
    {
     "name": "stdout",
     "output_type": "stream",
     "text": [
      "user_id       0\n",
      "user_os       0\n",
      "music_id      0\n",
      "music_type    0\n",
      "music_name    0\n",
      "singer        0\n",
      "play_len      0\n",
      "music_len     0\n",
      "pay           0\n",
      "long_play     0\n",
      "long_music    0\n",
      "dtype: int64\n"
     ]
    }
   ],
   "source": [
    "# check NAs\n",
    "dfNull = df.isnull()\n",
    "print( dfNull.sum(axis=0) )"
   ]
  },
  {
   "cell_type": "code",
   "execution_count": 52,
   "metadata": {
    "collapsed": false
   },
   "outputs": [
    {
     "name": "stdout",
     "output_type": "stream",
     "text": [
      "<class 'pandas.core.frame.DataFrame'>\n",
      "Int64Index: 1852479 entries, 0 to 1846495\n",
      "Data columns (total 11 columns):\n",
      "user_id       int64\n",
      "user_os       object\n",
      "music_id      object\n",
      "music_type    float64\n",
      "music_name    object\n",
      "singer        object\n",
      "play_len      float64\n",
      "music_len     float64\n",
      "pay           float64\n",
      "long_play     bool\n",
      "long_music    bool\n",
      "dtypes: bool(2), float64(4), int64(1), object(4)\n",
      "memory usage: 144.9+ MB\n"
     ]
    }
   ],
   "source": [
    "df.info()"
   ]
  },
  {
   "cell_type": "code",
   "execution_count": 53,
   "metadata": {
    "collapsed": false
   },
   "outputs": [
    {
     "data": {
      "text/plain": [
       "array(['ar ', 'ip '], dtype=object)"
      ]
     },
     "execution_count": 53,
     "metadata": {},
     "output_type": "execute_result"
    }
   ],
   "source": [
    "df['user_os'].unique()"
   ]
  },
  {
   "cell_type": "code",
   "execution_count": 54,
   "metadata": {
    "collapsed": true
   },
   "outputs": [],
   "source": [
    "df.to_csv('0303_c1.csv', index=False)"
   ]
  },
  {
   "cell_type": "code",
   "execution_count": null,
   "metadata": {
    "collapsed": true
   },
   "outputs": [],
   "source": []
  }
 ],
 "metadata": {
  "kernelspec": {
   "display_name": "Python 3",
   "language": "python",
   "name": "python3"
  },
  "language_info": {
   "codemirror_mode": {
    "name": "ipython",
    "version": 3
   },
   "file_extension": ".py",
   "mimetype": "text/x-python",
   "name": "python",
   "nbconvert_exporter": "python",
   "pygments_lexer": "ipython3",
   "version": "3.6.0"
  }
 },
 "nbformat": 4,
 "nbformat_minor": 2
}
