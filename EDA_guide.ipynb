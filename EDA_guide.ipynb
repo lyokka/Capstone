{
 "cells": [
  {
   "cell_type": "markdown",
   "metadata": {},
   "source": [
    "# EDA"
   ]
  },
  {
   "cell_type": "markdown",
   "metadata": {},
   "source": [
    "### univariate non-graphical - categorical variable\n",
    "    - range\n",
    "    - frequency\n",
    "\n",
    "count/proportion/percent"
   ]
  },
  {
   "cell_type": "markdown",
   "metadata": {},
   "source": [
    "### univariate non-graphical - quantitative variable\n",
    "\n",
    "    - population distribution characteristic\n",
    "        - center tendency: sample mean/ median\n",
    "        - spread: sample variance/ standard deviation/ interquartile range(IQR) \n",
    "        - shape(tails): \n",
    "        - modality(peaks)\n",
    "        - outliers\n",
    "    - sample stats\n",
    "        - \n",
    "        - sample standard deviation\n",
    "        - sample skewness\n",
    "        - sample kurtosis"
   ]
  },
  {
   "cell_type": "markdown",
   "metadata": {},
   "source": [
    "### univariate graphical\n",
    "    \n",
    "    - histogram\n",
    "    - boxplot\n",
    "    - QQ plot"
   ]
  },
  {
   "cell_type": "markdown",
   "metadata": {},
   "source": [
    "### multivariate non-graphical - categorical\n",
    "    - cross tabulation\n",
    "    - correlation"
   ]
  },
  {
   "cell_type": "markdown",
   "metadata": {},
   "source": [
    "### multivariate non-graphical - quantitative\n",
    "    - correlation and covariance matrix"
   ]
  },
  {
   "cell_type": "markdown",
   "metadata": {},
   "source": [
    "### multivariate graphical - categorical\n",
    "    - scatter-scatter plot"
   ]
  },
  {
   "cell_type": "code",
   "execution_count": null,
   "metadata": {
    "collapsed": true
   },
   "outputs": [],
   "source": []
  }
 ],
 "metadata": {
  "kernelspec": {
   "display_name": "Python 3",
   "language": "python",
   "name": "python3"
  },
  "language_info": {
   "codemirror_mode": {
    "name": "ipython",
    "version": 3
   },
   "file_extension": ".py",
   "mimetype": "text/x-python",
   "name": "python",
   "nbconvert_exporter": "python",
   "pygments_lexer": "ipython3",
   "version": "3.6.0"
  }
 },
 "nbformat": 4,
 "nbformat_minor": 2
}
