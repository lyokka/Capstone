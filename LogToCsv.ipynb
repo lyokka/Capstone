{
 "cells": [
  {
   "cell_type": "code",
   "execution_count": 37,
   "metadata": {
    "collapsed": false
   },
   "outputs": [],
   "source": [
    "import pandas as pd\n",
    "import numpy as np\n",
    "names = np.arange(0,17)\n",
    "data = pd.read_table('20170303_1_play.log',\n",
    "                     sep = '\\n|(\\t)',\n",
    "                     #skiprows=2, # only for 20170301_play.log and 20170302_1_play.log\n",
    "                     names = names,\n",
    "                     index_col = False,\n",
    "                     engine='python')"
   ]
  },
  {
   "cell_type": "code",
   "execution_count": 38,
   "metadata": {
    "collapsed": false
   },
   "outputs": [
    {
     "data": {
      "text/html": [
       "<div>\n",
       "<table border=\"1\" class=\"dataframe\">\n",
       "  <thead>\n",
       "    <tr style=\"text-align: right;\">\n",
       "      <th></th>\n",
       "      <th>0</th>\n",
       "      <th>1</th>\n",
       "      <th>2</th>\n",
       "      <th>3</th>\n",
       "      <th>4</th>\n",
       "      <th>5</th>\n",
       "      <th>6</th>\n",
       "      <th>7</th>\n",
       "      <th>8</th>\n",
       "      <th>9</th>\n",
       "      <th>10</th>\n",
       "      <th>11</th>\n",
       "      <th>12</th>\n",
       "      <th>13</th>\n",
       "      <th>14</th>\n",
       "      <th>15</th>\n",
       "      <th>16</th>\n",
       "    </tr>\n",
       "  </thead>\n",
       "  <tbody>\n",
       "    <tr>\n",
       "      <th>0</th>\n",
       "      <td>154750654</td>\n",
       "      <td>\\t</td>\n",
       "      <td>ar</td>\n",
       "      <td>\\t</td>\n",
       "      <td>10740680</td>\n",
       "      <td>\\t</td>\n",
       "      <td>0</td>\n",
       "      <td>\\t</td>\n",
       "      <td>胸是软绵绵的</td>\n",
       "      <td>\\t</td>\n",
       "      <td>MC马克</td>\n",
       "      <td>\\t</td>\n",
       "      <td>76</td>\n",
       "      <td>\\t</td>\n",
       "      <td>0</td>\n",
       "      <td>\\t</td>\n",
       "      <td>0.0</td>\n",
       "    </tr>\n",
       "    <tr>\n",
       "      <th>1</th>\n",
       "      <td>154711780</td>\n",
       "      <td>\\t</td>\n",
       "      <td>ar</td>\n",
       "      <td>\\t</td>\n",
       "      <td>4540711</td>\n",
       "      <td>\\t</td>\n",
       "      <td>0</td>\n",
       "      <td>\\t</td>\n",
       "      <td>主啊_我赞美你</td>\n",
       "      <td>\\t</td>\n",
       "      <td>网络歌手</td>\n",
       "      <td>\\t</td>\n",
       "      <td>178</td>\n",
       "      <td>\\t</td>\n",
       "      <td>178</td>\n",
       "      <td>\\t</td>\n",
       "      <td>0.0</td>\n",
       "    </tr>\n",
       "    <tr>\n",
       "      <th>2</th>\n",
       "      <td>154745979</td>\n",
       "      <td>\\t</td>\n",
       "      <td>ar</td>\n",
       "      <td>\\t</td>\n",
       "      <td>6309425</td>\n",
       "      <td>\\t</td>\n",
       "      <td>0</td>\n",
       "      <td>\\t</td>\n",
       "      <td>匆匆那年(小品)</td>\n",
       "      <td>\\t</td>\n",
       "      <td>刘金霏&amp;徐滔&amp;侯振鹏&amp;陈印泉&amp;陈曦[相声]</td>\n",
       "      <td>\\t</td>\n",
       "      <td>1104</td>\n",
       "      <td>\\t</td>\n",
       "      <td>1104</td>\n",
       "      <td>\\t</td>\n",
       "      <td>0.0</td>\n",
       "    </tr>\n",
       "    <tr>\n",
       "      <th>3</th>\n",
       "      <td>154537507</td>\n",
       "      <td>\\t</td>\n",
       "      <td>ar</td>\n",
       "      <td>\\t</td>\n",
       "      <td>6664755</td>\n",
       "      <td>\\t</td>\n",
       "      <td>0</td>\n",
       "      <td>\\t</td>\n",
       "      <td>有一种爱叫做不离不弃</td>\n",
       "      <td>\\t</td>\n",
       "      <td>六哲&amp;孟杨</td>\n",
       "      <td>\\t</td>\n",
       "      <td>14</td>\n",
       "      <td>\\t</td>\n",
       "      <td>277</td>\n",
       "      <td>\\t</td>\n",
       "      <td>0.0</td>\n",
       "    </tr>\n",
       "    <tr>\n",
       "      <th>4</th>\n",
       "      <td>154559161</td>\n",
       "      <td>\\t</td>\n",
       "      <td>ip</td>\n",
       "      <td>\\t</td>\n",
       "      <td>11119785</td>\n",
       "      <td>\\t</td>\n",
       "      <td>0</td>\n",
       "      <td>\\t</td>\n",
       "      <td>There Are Witches Among Us \\/ The Bank \\/ The ...</td>\n",
       "      <td>\\t</td>\n",
       "      <td>James Newton Howard</td>\n",
       "      <td>\\t</td>\n",
       "      <td>32</td>\n",
       "      <td>\\t</td>\n",
       "      <td>414</td>\n",
       "      <td>\\t</td>\n",
       "      <td>0.0</td>\n",
       "    </tr>\n",
       "  </tbody>\n",
       "</table>\n",
       "</div>"
      ],
      "text/plain": [
       "           0   1    2   3          4   5   6   7   \\\n",
       "0  154750654   \\t  ar   \\t  10740680   \\t  0   \\t   \n",
       "1  154711780   \\t  ar   \\t   4540711   \\t  0   \\t   \n",
       "2  154745979   \\t  ar   \\t   6309425   \\t  0   \\t   \n",
       "3  154537507   \\t  ar   \\t   6664755   \\t  0   \\t   \n",
       "4  154559161   \\t  ip   \\t  11119785   \\t  0   \\t   \n",
       "\n",
       "                                                  8   9   \\\n",
       "0                                            胸是软绵绵的   \\t   \n",
       "1                                           主啊_我赞美你   \\t   \n",
       "2                                          匆匆那年(小品)   \\t   \n",
       "3                                        有一种爱叫做不离不弃   \\t   \n",
       "4  There Are Witches Among Us \\/ The Bank \\/ The ...  \\t   \n",
       "\n",
       "                       10  11     12  13     14  15   16  \n",
       "0                   MC马克   \\t    76   \\t     0   \\t  0.0  \n",
       "1                   网络歌手   \\t   178   \\t   178   \\t  0.0  \n",
       "2  刘金霏&徐滔&侯振鹏&陈印泉&陈曦[相声]   \\t  1104   \\t  1104   \\t  0.0  \n",
       "3                  六哲&孟杨   \\t    14   \\t   277   \\t  0.0  \n",
       "4    James Newton Howard   \\t    32   \\t   414   \\t  0.0  "
      ]
     },
     "execution_count": 38,
     "metadata": {},
     "output_type": "execute_result"
    }
   ],
   "source": [
    "data.head()"
   ]
  },
  {
   "cell_type": "code",
   "execution_count": 39,
   "metadata": {
    "collapsed": false,
    "scrolled": false
   },
   "outputs": [
    {
     "name": "stdout",
     "output_type": "stream",
     "text": [
      "['\\t' None]\n",
      "['\\t' None]\n",
      "['\\t' None]\n",
      "['\\t' None]\n",
      "['\\t' None]\n",
      "['\\t' None]\n",
      "['\\t' None]\n",
      "['\\t' None]\n"
     ]
    }
   ],
   "source": [
    "for i in range(16):\n",
    "    if i%2 == 1:\n",
    "        print(data[i].unique())"
   ]
  },
  {
   "cell_type": "code",
   "execution_count": 40,
   "metadata": {
    "collapsed": false
   },
   "outputs": [],
   "source": [
    "data = data.drop(data.columns[[1,3,5,7,9,11,13,15]], axis = 1)"
   ]
  },
  {
   "cell_type": "code",
   "execution_count": 41,
   "metadata": {
    "collapsed": false
   },
   "outputs": [],
   "source": [
    "data.columns = ['user_id', 'user_os', 'music_id',\n",
    "                'music_type', 'music_name', 'singer',\n",
    "                'play_len', 'music_len', 'pay']"
   ]
  },
  {
   "cell_type": "code",
   "execution_count": 42,
   "metadata": {
    "collapsed": false
   },
   "outputs": [
    {
     "data": {
      "text/plain": [
       "(1852999, 9)"
      ]
     },
     "execution_count": 42,
     "metadata": {},
     "output_type": "execute_result"
    }
   ],
   "source": [
    "data.shape"
   ]
  },
  {
   "cell_type": "code",
   "execution_count": 43,
   "metadata": {
    "collapsed": false
   },
   "outputs": [
    {
     "data": {
      "text/html": [
       "<div>\n",
       "<table border=\"1\" class=\"dataframe\">\n",
       "  <thead>\n",
       "    <tr style=\"text-align: right;\">\n",
       "      <th></th>\n",
       "      <th>user_id</th>\n",
       "      <th>user_os</th>\n",
       "      <th>music_id</th>\n",
       "      <th>music_type</th>\n",
       "      <th>music_name</th>\n",
       "      <th>singer</th>\n",
       "      <th>play_len</th>\n",
       "      <th>music_len</th>\n",
       "      <th>pay</th>\n",
       "    </tr>\n",
       "  </thead>\n",
       "  <tbody>\n",
       "    <tr>\n",
       "      <th>0</th>\n",
       "      <td>154750654</td>\n",
       "      <td>ar</td>\n",
       "      <td>10740680</td>\n",
       "      <td>0</td>\n",
       "      <td>胸是软绵绵的</td>\n",
       "      <td>MC马克</td>\n",
       "      <td>76</td>\n",
       "      <td>0</td>\n",
       "      <td>0.0</td>\n",
       "    </tr>\n",
       "    <tr>\n",
       "      <th>1</th>\n",
       "      <td>154711780</td>\n",
       "      <td>ar</td>\n",
       "      <td>4540711</td>\n",
       "      <td>0</td>\n",
       "      <td>主啊_我赞美你</td>\n",
       "      <td>网络歌手</td>\n",
       "      <td>178</td>\n",
       "      <td>178</td>\n",
       "      <td>0.0</td>\n",
       "    </tr>\n",
       "    <tr>\n",
       "      <th>2</th>\n",
       "      <td>154745979</td>\n",
       "      <td>ar</td>\n",
       "      <td>6309425</td>\n",
       "      <td>0</td>\n",
       "      <td>匆匆那年(小品)</td>\n",
       "      <td>刘金霏&amp;徐滔&amp;侯振鹏&amp;陈印泉&amp;陈曦[相声]</td>\n",
       "      <td>1104</td>\n",
       "      <td>1104</td>\n",
       "      <td>0.0</td>\n",
       "    </tr>\n",
       "    <tr>\n",
       "      <th>3</th>\n",
       "      <td>154537507</td>\n",
       "      <td>ar</td>\n",
       "      <td>6664755</td>\n",
       "      <td>0</td>\n",
       "      <td>有一种爱叫做不离不弃</td>\n",
       "      <td>六哲&amp;孟杨</td>\n",
       "      <td>14</td>\n",
       "      <td>277</td>\n",
       "      <td>0.0</td>\n",
       "    </tr>\n",
       "    <tr>\n",
       "      <th>4</th>\n",
       "      <td>154559161</td>\n",
       "      <td>ip</td>\n",
       "      <td>11119785</td>\n",
       "      <td>0</td>\n",
       "      <td>There Are Witches Among Us \\/ The Bank \\/ The ...</td>\n",
       "      <td>James Newton Howard</td>\n",
       "      <td>32</td>\n",
       "      <td>414</td>\n",
       "      <td>0.0</td>\n",
       "    </tr>\n",
       "  </tbody>\n",
       "</table>\n",
       "</div>"
      ],
      "text/plain": [
       "      user_id user_os   music_id music_type  \\\n",
       "0  154750654      ar   10740680          0    \n",
       "1  154711780      ar    4540711          0    \n",
       "2  154745979      ar    6309425          0    \n",
       "3  154537507      ar    6664755          0    \n",
       "4  154559161      ip   11119785          0    \n",
       "\n",
       "                                          music_name                  singer  \\\n",
       "0                                            胸是软绵绵的                    MC马克    \n",
       "1                                           主啊_我赞美你                    网络歌手    \n",
       "2                                          匆匆那年(小品)   刘金霏&徐滔&侯振鹏&陈印泉&陈曦[相声]    \n",
       "3                                        有一种爱叫做不离不弃                   六哲&孟杨    \n",
       "4  There Are Witches Among Us \\/ The Bank \\/ The ...    James Newton Howard    \n",
       "\n",
       "  play_len music_len  pay  \n",
       "0      76         0   0.0  \n",
       "1     178       178   0.0  \n",
       "2    1104      1104   0.0  \n",
       "3      14       277   0.0  \n",
       "4      32       414   0.0  "
      ]
     },
     "execution_count": 43,
     "metadata": {},
     "output_type": "execute_result"
    }
   ],
   "source": [
    "data.head()"
   ]
  },
  {
   "cell_type": "code",
   "execution_count": 44,
   "metadata": {
    "collapsed": true
   },
   "outputs": [],
   "source": [
    "data.to_csv('0303_play.csv', index=False)"
   ]
  },
  {
   "cell_type": "code",
   "execution_count": 45,
   "metadata": {
    "collapsed": false
   },
   "outputs": [],
   "source": [
    "data_0303 = pd.read_csv('0303_play.csv', engine = 'python')"
   ]
  },
  {
   "cell_type": "code",
   "execution_count": 46,
   "metadata": {
    "collapsed": false,
    "scrolled": true
   },
   "outputs": [
    {
     "data": {
      "text/html": [
       "<div>\n",
       "<table border=\"1\" class=\"dataframe\">\n",
       "  <thead>\n",
       "    <tr style=\"text-align: right;\">\n",
       "      <th></th>\n",
       "      <th>user_id</th>\n",
       "      <th>user_os</th>\n",
       "      <th>music_id</th>\n",
       "      <th>music_type</th>\n",
       "      <th>music_name</th>\n",
       "      <th>singer</th>\n",
       "      <th>play_len</th>\n",
       "      <th>music_len</th>\n",
       "      <th>pay</th>\n",
       "    </tr>\n",
       "  </thead>\n",
       "  <tbody>\n",
       "    <tr>\n",
       "      <th>0</th>\n",
       "      <td>154750654</td>\n",
       "      <td>ar</td>\n",
       "      <td>10740680</td>\n",
       "      <td>0</td>\n",
       "      <td>胸是软绵绵的</td>\n",
       "      <td>MC马克</td>\n",
       "      <td>76</td>\n",
       "      <td>0</td>\n",
       "      <td>0.0</td>\n",
       "    </tr>\n",
       "    <tr>\n",
       "      <th>1</th>\n",
       "      <td>154711780</td>\n",
       "      <td>ar</td>\n",
       "      <td>4540711</td>\n",
       "      <td>0</td>\n",
       "      <td>主啊_我赞美你</td>\n",
       "      <td>网络歌手</td>\n",
       "      <td>178</td>\n",
       "      <td>178</td>\n",
       "      <td>0.0</td>\n",
       "    </tr>\n",
       "    <tr>\n",
       "      <th>2</th>\n",
       "      <td>154745979</td>\n",
       "      <td>ar</td>\n",
       "      <td>6309425</td>\n",
       "      <td>0</td>\n",
       "      <td>匆匆那年(小品)</td>\n",
       "      <td>刘金霏&amp;徐滔&amp;侯振鹏&amp;陈印泉&amp;陈曦[相声]</td>\n",
       "      <td>1104</td>\n",
       "      <td>1104</td>\n",
       "      <td>0.0</td>\n",
       "    </tr>\n",
       "    <tr>\n",
       "      <th>3</th>\n",
       "      <td>154537507</td>\n",
       "      <td>ar</td>\n",
       "      <td>6664755</td>\n",
       "      <td>0</td>\n",
       "      <td>有一种爱叫做不离不弃</td>\n",
       "      <td>六哲&amp;孟杨</td>\n",
       "      <td>14</td>\n",
       "      <td>277</td>\n",
       "      <td>0.0</td>\n",
       "    </tr>\n",
       "    <tr>\n",
       "      <th>4</th>\n",
       "      <td>154559161</td>\n",
       "      <td>ip</td>\n",
       "      <td>11119785</td>\n",
       "      <td>0</td>\n",
       "      <td>There Are Witches Among Us \\/ The Bank \\/ The ...</td>\n",
       "      <td>James Newton Howard</td>\n",
       "      <td>32</td>\n",
       "      <td>414</td>\n",
       "      <td>0.0</td>\n",
       "    </tr>\n",
       "  </tbody>\n",
       "</table>\n",
       "</div>"
      ],
      "text/plain": [
       "      user_id user_os   music_id music_type  \\\n",
       "0  154750654      ar   10740680          0    \n",
       "1  154711780      ar    4540711          0    \n",
       "2  154745979      ar    6309425          0    \n",
       "3  154537507      ar    6664755          0    \n",
       "4  154559161      ip   11119785          0    \n",
       "\n",
       "                                          music_name                  singer  \\\n",
       "0                                            胸是软绵绵的                    MC马克    \n",
       "1                                           主啊_我赞美你                    网络歌手    \n",
       "2                                          匆匆那年(小品)   刘金霏&徐滔&侯振鹏&陈印泉&陈曦[相声]    \n",
       "3                                        有一种爱叫做不离不弃                   六哲&孟杨    \n",
       "4  There Are Witches Among Us \\/ The Bank \\/ The ...    James Newton Howard    \n",
       "\n",
       "  play_len music_len  pay  \n",
       "0      76         0   0.0  \n",
       "1     178       178   0.0  \n",
       "2    1104      1104   0.0  \n",
       "3      14       277   0.0  \n",
       "4      32       414   0.0  "
      ]
     },
     "execution_count": 46,
     "metadata": {},
     "output_type": "execute_result"
    }
   ],
   "source": [
    "data_0303.head()"
   ]
  },
  {
   "cell_type": "code",
   "execution_count": null,
   "metadata": {
    "collapsed": true
   },
   "outputs": [],
   "source": []
  }
 ],
 "metadata": {
  "kernelspec": {
   "display_name": "Python 3",
   "language": "python",
   "name": "python3"
  },
  "language_info": {
   "codemirror_mode": {
    "name": "ipython",
    "version": 3
   },
   "file_extension": ".py",
   "mimetype": "text/x-python",
   "name": "python",
   "nbconvert_exporter": "python",
   "pygments_lexer": "ipython3",
   "version": "3.6.0"
  }
 },
 "nbformat": 4,
 "nbformat_minor": 2
}
