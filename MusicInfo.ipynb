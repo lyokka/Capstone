{
 "cells": [
  {
   "cell_type": "code",
   "execution_count": 1,
   "metadata": {
    "collapsed": false
   },
   "outputs": [],
   "source": [
    "import pandas as pd\n",
    "df = pd.read_csv('0301_c1.csv', engine = 'python')"
   ]
  },
  {
   "cell_type": "code",
   "execution_count": 2,
   "metadata": {
    "collapsed": false
   },
   "outputs": [
    {
     "data": {
      "text/html": [
       "<div>\n",
       "<table border=\"1\" class=\"dataframe\">\n",
       "  <thead>\n",
       "    <tr style=\"text-align: right;\">\n",
       "      <th></th>\n",
       "      <th>user_id</th>\n",
       "      <th>user_os</th>\n",
       "      <th>music_id</th>\n",
       "      <th>music_type</th>\n",
       "      <th>music_name</th>\n",
       "      <th>singer</th>\n",
       "      <th>play_len</th>\n",
       "      <th>music_len</th>\n",
       "      <th>pay</th>\n",
       "      <th>long_play</th>\n",
       "      <th>long_music</th>\n",
       "    </tr>\n",
       "  </thead>\n",
       "  <tbody>\n",
       "    <tr>\n",
       "      <th>0</th>\n",
       "      <td>154422682</td>\n",
       "      <td>ar</td>\n",
       "      <td>20870993</td>\n",
       "      <td>1.0</td>\n",
       "      <td>用情</td>\n",
       "      <td>狮子合唱团</td>\n",
       "      <td>22013.0</td>\n",
       "      <td>332.0</td>\n",
       "      <td>0.0</td>\n",
       "      <td>True</td>\n",
       "      <td>False</td>\n",
       "    </tr>\n",
       "    <tr>\n",
       "      <th>1</th>\n",
       "      <td>154421907</td>\n",
       "      <td>ip</td>\n",
       "      <td>6560858</td>\n",
       "      <td>0.0</td>\n",
       "      <td>表情不要悲伤</td>\n",
       "      <td>伯贤&amp;D.O.&amp;张艺兴&amp;朴灿烈</td>\n",
       "      <td>96.0</td>\n",
       "      <td>161.0</td>\n",
       "      <td>0.0</td>\n",
       "      <td>False</td>\n",
       "      <td>False</td>\n",
       "    </tr>\n",
       "    <tr>\n",
       "      <th>2</th>\n",
       "      <td>154422630</td>\n",
       "      <td>ar</td>\n",
       "      <td>3385963</td>\n",
       "      <td>1.0</td>\n",
       "      <td>Baby, Don't Cry(人鱼的眼泪)</td>\n",
       "      <td>EXO</td>\n",
       "      <td>235868.0</td>\n",
       "      <td>235.0</td>\n",
       "      <td>0.0</td>\n",
       "      <td>True</td>\n",
       "      <td>False</td>\n",
       "    </tr>\n",
       "    <tr>\n",
       "      <th>3</th>\n",
       "      <td>154410267</td>\n",
       "      <td>ar</td>\n",
       "      <td>6777172</td>\n",
       "      <td>0.0</td>\n",
       "      <td>3D-环绕音律1(3D Mix)</td>\n",
       "      <td>McTaiM</td>\n",
       "      <td>164.0</td>\n",
       "      <td>237.0</td>\n",
       "      <td>0.0</td>\n",
       "      <td>False</td>\n",
       "      <td>False</td>\n",
       "    </tr>\n",
       "    <tr>\n",
       "      <th>4</th>\n",
       "      <td>154407793</td>\n",
       "      <td>ar</td>\n",
       "      <td>19472465</td>\n",
       "      <td>0.0</td>\n",
       "      <td>刚好遇见你</td>\n",
       "      <td>曲肖冰</td>\n",
       "      <td>24.0</td>\n",
       "      <td>201.0</td>\n",
       "      <td>0.0</td>\n",
       "      <td>False</td>\n",
       "      <td>False</td>\n",
       "    </tr>\n",
       "  </tbody>\n",
       "</table>\n",
       "</div>"
      ],
      "text/plain": [
       "     user_id user_os  music_id  music_type               music_name  \\\n",
       "0  154422682     ar   20870993         1.0                      用情    \n",
       "1  154421907     ip    6560858         0.0                  表情不要悲伤    \n",
       "2  154422630     ar    3385963         1.0  Baby, Don't Cry(人鱼的眼泪)    \n",
       "3  154410267     ar    6777172         0.0        3D-环绕音律1(3D Mix)    \n",
       "4  154407793     ar   19472465         0.0                   刚好遇见你    \n",
       "\n",
       "             singer  play_len  music_len  pay long_play long_music  \n",
       "0            狮子合唱团    22013.0      332.0  0.0      True      False  \n",
       "1  伯贤&D.O.&张艺兴&朴灿烈       96.0      161.0  0.0     False      False  \n",
       "2              EXO   235868.0      235.0  0.0      True      False  \n",
       "3           McTaiM      164.0      237.0  0.0     False      False  \n",
       "4              曲肖冰       24.0      201.0  0.0     False      False  "
      ]
     },
     "execution_count": 2,
     "metadata": {},
     "output_type": "execute_result"
    }
   ],
   "source": [
    "df.head()"
   ]
  },
  {
   "cell_type": "code",
   "execution_count": 3,
   "metadata": {
    "collapsed": true
   },
   "outputs": [],
   "source": [
    "music_name = df['music_name']"
   ]
  },
  {
   "cell_type": "code",
   "execution_count": 4,
   "metadata": {
    "collapsed": false
   },
   "outputs": [
    {
     "data": {
      "text/plain": [
       "(287479,)"
      ]
     },
     "execution_count": 4,
     "metadata": {},
     "output_type": "execute_result"
    }
   ],
   "source": [
    "music_name.unique().shape"
   ]
  },
  {
   "cell_type": "code",
   "execution_count": 5,
   "metadata": {
    "collapsed": false
   },
   "outputs": [
    {
     "name": "stderr",
     "output_type": "stream",
     "text": [
      "/home/ye/anaconda3/lib/python3.6/site-packages/ipykernel/__main__.py:1: UserWarning: This pattern has match groups. To actually get the groups, use str.extract.\n",
      "  if __name__ == '__main__':\n"
     ]
    }
   ],
   "source": [
    "music_name_special = music_name[ music_name.str.contains('([\\>|\\(|\\)|\\=\\}])') ] # remove > or ( or ) or = or }\n"
   ]
  },
  {
   "cell_type": "code",
   "execution_count": 6,
   "metadata": {
    "collapsed": false
   },
   "outputs": [],
   "source": [
    "music_sub = music_name_special.str.replace('.+\\(', '')\n",
    "music_sub = music_sub.str.replace('\\)', '')"
   ]
  },
  {
   "cell_type": "code",
   "execution_count": 7,
   "metadata": {
    "collapsed": false
   },
   "outputs": [
    {
     "data": {
      "text/plain": [
       "(833062,)"
      ]
     },
     "execution_count": 7,
     "metadata": {},
     "output_type": "execute_result"
    }
   ],
   "source": [
    "music_name_special.shape"
   ]
  },
  {
   "cell_type": "code",
   "execution_count": 15,
   "metadata": {
    "collapsed": false
   },
   "outputs": [
    {
     "data": {
      "text/plain": [
       "2                 Baby, Don't Cry(人鱼的眼泪) \n",
       "3                       3D-环绕音律1(3D Mix) \n",
       "6                       老男孩-(电影《老男孩》主题曲) \n",
       "10                       悟-(电影《新少林寺》主题曲) \n",
       "11                           老情歌(27秒铃声版) \n",
       "15                 超越无限-(电影《听·见 林俊杰》主题曲) \n",
       "17                               假日(DJ版) \n",
       "18                  英文(Dj,2012 超好听的英文慢摇) \n",
       "19                            门铃声(1秒铃声版) \n",
       "21                        非主流高潮手机铃声(DJ版) \n",
       "25                  戏台-(新世相·青春版《红楼梦》主题曲) \n",
       "26                             七年(Remix) \n",
       "27           Vivir Mi Vida (Version Pop) \n",
       "33              Something I Need(51秒铃声版) \n",
       "36                  crawling(电视剧《越狱》主题曲) \n",
       "46                      苹果Ios7短信音(1秒铃声版) \n",
       "48                            当我想起你(DJ版) \n",
       "52                          趁早(《趁早》  李健) \n",
       "56                   用你的真心换我的电话号码 (泰国歌曲) \n",
       "64                           DJ女神(Remix) \n",
       "72                              八音盒(完整版) \n",
       "75                            铃声(31秒铃声版) \n",
       "82               三生三世-(电视剧《三生三世十里桃花》主题曲) \n",
       "87         It's Love(Electronic version) \n",
       "92                  see you again (再见一面) \n",
       "97                 最好不要在见面(龙南DJ阿奇Mix第二版) \n",
       "99         It's Love(Electronic version) \n",
       "106                   没有你陪伴我真的好孤单(DJ加快)A \n",
       "107                 戏台-(新世相·青春版《红楼梦》主题曲) \n",
       "109        Daylight (Playing for Change) \n",
       "                        ...              \n",
       "3410972                    一人我饮酒醉(30秒铃声版)\n",
       "3410973                    一人我饮酒醉(30秒铃声版)\n",
       "3410974                    一人我饮酒醉(30秒铃声版)\n",
       "3410975                      勉为其难(34秒铃声版)\n",
       "3410976                       歌在飞(30秒铃声版)\n",
       "3410977                    一人我饮酒醉(30秒铃声版)\n",
       "3410978                      我不想说(23秒铃声版)\n",
       "3410979                 我在人民广场吃炸鸡(25秒铃声版)\n",
       "3410980                       南山南(29秒铃声版)\n",
       "3410981                        如意(32秒铃声版)\n",
       "3410982                      我不想说(23秒铃声版)\n",
       "3410983                      我不想说(23秒铃声版)\n",
       "3410984                  流年啊 你奈我何(35秒铃声版)\n",
       "3410985                      一曲红尘(33秒铃声版)\n",
       "3410986                   我在前世约了你(33秒铃声版)\n",
       "3410987                       心之火(57秒铃声版)\n",
       "3410988                       林中鸟(31秒铃声版)\n",
       "3410989                       南山南(29秒铃声版)\n",
       "3410990                      我不想说(23秒铃声版)\n",
       "3410991                        雨蝶(59秒铃声版)\n",
       "3410992                        雨蝶(59秒铃声版)\n",
       "3410993                        雨蝶(59秒铃声版)\n",
       "3410994                      爱情买卖(26秒铃声版)\n",
       "3410995           低沉嘶吼,一秒 身寸 穿你神经(35秒铃声版)\n",
       "3410997                      人间西湖(28秒铃声版)\n",
       "3410998                       南山南(29秒铃声版)\n",
       "3410999                      人间西湖(28秒铃声版)\n",
       "3411000                      杯水情歌(20秒铃声版)\n",
       "3411001                    新阿瓦尔古丽(44秒铃声版)\n",
       "3411002                      人间西湖(28秒铃声版)\n",
       "Name: music_name, dtype: object"
      ]
     },
     "execution_count": 15,
     "metadata": {},
     "output_type": "execute_result"
    }
   ],
   "source": [
    "music_name_special"
   ]
  },
  {
   "cell_type": "code",
   "execution_count": 9,
   "metadata": {
    "collapsed": false,
    "scrolled": true
   },
   "outputs": [
    {
     "name": "stderr",
     "output_type": "stream",
     "text": [
      "/home/ye/anaconda3/lib/python3.6/site-packages/ipykernel/__main__.py:1: UserWarning: This pattern has match groups. To actually get the groups, use str.extract.\n",
      "  if __name__ == '__main__':\n",
      "/home/ye/anaconda3/lib/python3.6/site-packages/ipykernel/__main__.py:2: UserWarning: This pattern has match groups. To actually get the groups, use str.extract.\n",
      "  from ipykernel import kernelapp as app\n",
      "/home/ye/anaconda3/lib/python3.6/site-packages/ipykernel/__main__.py:3: UserWarning: This pattern has match groups. To actually get the groups, use str.extract.\n",
      "  app.launch_new_instance()\n"
     ]
    }
   ],
   "source": [
    "lingsheng = music_sub.str.contains('(铃声|铃|短讯)')\n",
    "zhutiqu = music_sub.str.contains('(主题曲|插曲|网络剧|电影|电视剧|片尾曲|片头曲|原声|影视|主题歌)')\n",
    "DJ = music_sub.str.contains('(Rmx|Remix|Mix|mix|DJ|dj|Dj|慢摇|嗨|夜店|酒吧|Disco|串烧|RNB|Club)')\n",
    "Others = ~(lingsheng|zhutiqu|DJ)"
   ]
  },
  {
   "cell_type": "code",
   "execution_count": 10,
   "metadata": {
    "collapsed": false,
    "scrolled": true
   },
   "outputs": [
    {
     "name": "stdout",
     "output_type": "stream",
     "text": [
      "lingsheng -  117064\n",
      "zhutiqu   -  307449\n",
      "DJ        -  113692\n",
      "Others    -  298680\n",
      "sum       -  836885\n",
      "total     -  833062\n"
     ]
    }
   ],
   "source": [
    "print('lingsheng - ',lingsheng.sum())\n",
    "print('zhutiqu   - ', zhutiqu.sum())\n",
    "print('DJ        - ', DJ.sum())\n",
    "print('Others    - ', Others.sum())\n",
    "print('sum       - ', lingsheng.sum()+ zhutiqu.sum() + DJ.sum() + Others.sum())\n",
    "print('total     - ', music_name_special.shape[0])"
   ]
  },
  {
   "cell_type": "code",
   "execution_count": 11,
   "metadata": {
    "collapsed": true
   },
   "outputs": [],
   "source": [
    "singer_name = df['singer']"
   ]
  },
  {
   "cell_type": "code",
   "execution_count": 18,
   "metadata": {
    "collapsed": false
   },
   "outputs": [
    {
     "data": {
      "text/plain": [
       "array(['狮子合唱团 ', '伯贤&D.O.&张艺兴&朴灿烈 ', 'EXO ', ..., '154714419 ',\n",
       "       '154586636 ', '154792376 '], dtype=object)"
      ]
     },
     "execution_count": 18,
     "metadata": {},
     "output_type": "execute_result"
    }
   ],
   "source": [
    "singer_name.unique()"
   ]
  },
  {
   "cell_type": "code",
   "execution_count": 13,
   "metadata": {
    "collapsed": false
   },
   "outputs": [
    {
     "name": "stderr",
     "output_type": "stream",
     "text": [
      "/home/ye/anaconda3/lib/python3.6/site-packages/ipykernel/__main__.py:1: UserWarning: This pattern has match groups. To actually get the groups, use str.extract.\n",
      "  if __name__ == '__main__':\n"
     ]
    }
   ],
   "source": [
    "singer_name_special = singer_name[ singer_name.str.contains('([\\>|\\(|\\)|\\=\\}])') ] # remove > or ( or ) or = or }"
   ]
  },
  {
   "cell_type": "code",
   "execution_count": 19,
   "metadata": {
    "collapsed": false
   },
   "outputs": [
    {
     "data": {
      "text/plain": [
       "39                                           防弹少年团(BTS) \n",
       "245                                          防弹少年团(BTS) \n",
       "13733                            茅野愛衣 (かやの あい)&早見沙織&戸松遥 \n",
       "17194                                       島谷ひとみ (岛谷瞳) \n",
       "18216                                       島谷ひとみ (岛谷瞳) \n",
       "22345      Musical Creations Studio Musicians (Karaoke) \n",
       "25960                                        防弹少年团(BTS) \n",
       "26876                                        防弹少年团(BTS) \n",
       "27127                                        防弹少年团(BTS) \n",
       "27233                                        防弹少年团(BTS) \n",
       "28448                                        防弹少年团(BTS) \n",
       "35290                                        黄丽玲(A-Lin) \n",
       "36153                                              f(x) \n",
       "36355                                           李昊瀚(山野) \n",
       "37686                            初音ミク&初音ミク V3 (English) \n",
       "38468                                           小贱(谭冰尧) \n",
       "38699                                      Eagles(老鹰乐队) \n",
       "44212                         剑悠工作室 (电脑组装 音像制作 3811646) \n",
       "44248                                         <unknown> \n",
       "47796                                   可儿家族(The Corrs) \n",
       "47810                                    flumpool (凡人谱) \n",
       "52052                                        防弹少年团(BTS) \n",
       "52160                                        防弹少年团(BTS) \n",
       "54418                                        防弹少年团(BTS) \n",
       "54468                                        防弹少年团(BTS) \n",
       "55143                                        防弹少年团(BTS) \n",
       "55171                                        防弹少年团(BTS) \n",
       "55230                   防弹少年团(BTS)&金泰妍&f(x)&EXO&BIGBANG \n",
       "55269                                        防弹少年团(BTS) \n",
       "55289                                        防弹少年团(BTS) \n",
       "                               ...                      \n",
       "3389295                                      防弹少年团(BTS) \n",
       "3389581                                      防弹少年团(BTS) \n",
       "3389605                                      防弹少年团(BTS) \n",
       "3389639                                      防弹少年团(BTS) \n",
       "3389821                                      防弹少年团(BTS) \n",
       "3391069                                     DJ本色(LYmix) \n",
       "3392093                                      防弹少年团(BTS) \n",
       "3392480                                      防弹少年团(BTS) \n",
       "3393257                                       我恨我痴心(粤语) \n",
       "3393310                                      防弹少年团(BTS) \n",
       "3394574                                            f(x) \n",
       "3395043                                         엑소(EXO) \n",
       "3395974                           미스에스(Miss $)&오원빈(吴源斌) \n",
       "3396040                                        Sara(泰语) \n",
       "3397270                                      防弹少年团(BTS) \n",
       "3398623                                     ??(Bigbang) \n",
       "3399289                                 Depapepe (デパペペ) \n",
       "3400116                                      防弹少年团(BTS) \n",
       "3401982                                      防弹少年团(BTS) \n",
       "3402211                               假面骑士 (仮面 ライダー ロゴ) \n",
       "3402724                         仮面ライダーGIRLS (假面骑士GIRLS) \n",
       "3403277                             ???????????(CV.???) \n",
       "3403282                               恰克与飞鸟(chage&aska) \n",
       "3405172                    韩国群星 (Korea Various Artists) \n",
       "3405334                                      防弹少年团(BTS) \n",
       "3406758                                     <Undefined> \n",
       "3407681                                  征婚歌(2009光棍节献歌) \n",
       "3409865                                      防弹少年团(BTS) \n",
       "3410047                                       奇迹好组合(对唱) \n",
       "3410218                                 Depapepe (デパペペ) \n",
       "Name: singer, dtype: object"
      ]
     },
     "execution_count": 19,
     "metadata": {},
     "output_type": "execute_result"
    }
   ],
   "source": [
    "singer_name_special"
   ]
  },
  {
   "cell_type": "code",
   "execution_count": null,
   "metadata": {
    "collapsed": true
   },
   "outputs": [],
   "source": []
  }
 ],
 "metadata": {
  "kernelspec": {
   "display_name": "Python 3",
   "language": "python",
   "name": "python3"
  },
  "language_info": {
   "codemirror_mode": {
    "name": "ipython",
    "version": 3
   },
   "file_extension": ".py",
   "mimetype": "text/x-python",
   "name": "python",
   "nbconvert_exporter": "python",
   "pygments_lexer": "ipython3",
   "version": "3.6.0"
  }
 },
 "nbformat": 4,
 "nbformat_minor": 2
}
