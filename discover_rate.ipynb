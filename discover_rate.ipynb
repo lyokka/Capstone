{
 "cells": [
  {
   "cell_type": "code",
   "execution_count": 1,
   "metadata": {
    "collapsed": true
   },
   "outputs": [],
   "source": [
    "# load data\n",
    "import pandas as pd\n",
    "df = pd.read_csv('0301_c1.csv', engine = 'python')"
   ]
  },
  {
   "cell_type": "code",
   "execution_count": 2,
   "metadata": {
    "collapsed": false,
    "scrolled": true
   },
   "outputs": [
    {
     "data": {
      "text/html": [
       "<div>\n",
       "<table border=\"1\" class=\"dataframe\">\n",
       "  <thead>\n",
       "    <tr style=\"text-align: right;\">\n",
       "      <th></th>\n",
       "      <th>user_id</th>\n",
       "      <th>user_os</th>\n",
       "      <th>music_id</th>\n",
       "      <th>music_type</th>\n",
       "      <th>music_name</th>\n",
       "      <th>singer</th>\n",
       "      <th>play_len</th>\n",
       "      <th>music_len</th>\n",
       "      <th>pay</th>\n",
       "      <th>long_play</th>\n",
       "      <th>long_music</th>\n",
       "    </tr>\n",
       "  </thead>\n",
       "  <tbody>\n",
       "    <tr>\n",
       "      <th>0</th>\n",
       "      <td>154422682</td>\n",
       "      <td>ar</td>\n",
       "      <td>20870993</td>\n",
       "      <td>1.0</td>\n",
       "      <td>用情</td>\n",
       "      <td>狮子合唱团</td>\n",
       "      <td>22013.0</td>\n",
       "      <td>332.0</td>\n",
       "      <td>0.0</td>\n",
       "      <td>True</td>\n",
       "      <td>False</td>\n",
       "    </tr>\n",
       "    <tr>\n",
       "      <th>1</th>\n",
       "      <td>154421907</td>\n",
       "      <td>ip</td>\n",
       "      <td>6560858</td>\n",
       "      <td>0.0</td>\n",
       "      <td>表情不要悲伤</td>\n",
       "      <td>伯贤&amp;D.O.&amp;张艺兴&amp;朴灿烈</td>\n",
       "      <td>96.0</td>\n",
       "      <td>161.0</td>\n",
       "      <td>0.0</td>\n",
       "      <td>False</td>\n",
       "      <td>False</td>\n",
       "    </tr>\n",
       "    <tr>\n",
       "      <th>2</th>\n",
       "      <td>154422630</td>\n",
       "      <td>ar</td>\n",
       "      <td>3385963</td>\n",
       "      <td>1.0</td>\n",
       "      <td>Baby, Don't Cry(人鱼的眼泪)</td>\n",
       "      <td>EXO</td>\n",
       "      <td>235868.0</td>\n",
       "      <td>235.0</td>\n",
       "      <td>0.0</td>\n",
       "      <td>True</td>\n",
       "      <td>False</td>\n",
       "    </tr>\n",
       "    <tr>\n",
       "      <th>3</th>\n",
       "      <td>154410267</td>\n",
       "      <td>ar</td>\n",
       "      <td>6777172</td>\n",
       "      <td>0.0</td>\n",
       "      <td>3D-环绕音律1(3D Mix)</td>\n",
       "      <td>McTaiM</td>\n",
       "      <td>164.0</td>\n",
       "      <td>237.0</td>\n",
       "      <td>0.0</td>\n",
       "      <td>False</td>\n",
       "      <td>False</td>\n",
       "    </tr>\n",
       "    <tr>\n",
       "      <th>4</th>\n",
       "      <td>154407793</td>\n",
       "      <td>ar</td>\n",
       "      <td>19472465</td>\n",
       "      <td>0.0</td>\n",
       "      <td>刚好遇见你</td>\n",
       "      <td>曲肖冰</td>\n",
       "      <td>24.0</td>\n",
       "      <td>201.0</td>\n",
       "      <td>0.0</td>\n",
       "      <td>False</td>\n",
       "      <td>False</td>\n",
       "    </tr>\n",
       "  </tbody>\n",
       "</table>\n",
       "</div>"
      ],
      "text/plain": [
       "     user_id user_os  music_id  music_type               music_name  \\\n",
       "0  154422682     ar   20870993         1.0                      用情    \n",
       "1  154421907     ip    6560858         0.0                  表情不要悲伤    \n",
       "2  154422630     ar    3385963         1.0  Baby, Don't Cry(人鱼的眼泪)    \n",
       "3  154410267     ar    6777172         0.0        3D-环绕音律1(3D Mix)    \n",
       "4  154407793     ar   19472465         0.0                   刚好遇见你    \n",
       "\n",
       "             singer  play_len  music_len  pay long_play long_music  \n",
       "0            狮子合唱团    22013.0      332.0  0.0      True      False  \n",
       "1  伯贤&D.O.&张艺兴&朴灿烈       96.0      161.0  0.0     False      False  \n",
       "2              EXO   235868.0      235.0  0.0      True      False  \n",
       "3           McTaiM      164.0      237.0  0.0     False      False  \n",
       "4              曲肖冰       24.0      201.0  0.0     False      False  "
      ]
     },
     "execution_count": 2,
     "metadata": {},
     "output_type": "execute_result"
    }
   ],
   "source": [
    "# display data\n",
    "df.head()"
   ]
  },
  {
   "cell_type": "code",
   "execution_count": 4,
   "metadata": {
    "collapsed": true
   },
   "outputs": [],
   "source": [
    "df['music_id'] = df[\"music_id\"].astype('str')\n",
    "df['user_id'] = df[\"user_id\"].astype('str')"
   ]
  },
  {
   "cell_type": "code",
   "execution_count": 5,
   "metadata": {
    "collapsed": false
   },
   "outputs": [
    {
     "name": "stdout",
     "output_type": "stream",
     "text": [
      "<class 'pandas.core.frame.DataFrame'>\n",
      "RangeIndex: 3411003 entries, 0 to 3411002\n",
      "Data columns (total 11 columns):\n",
      "user_id       object\n",
      "user_os       object\n",
      "music_id      object\n",
      "music_type    float64\n",
      "music_name    object\n",
      "singer        object\n",
      "play_len      float64\n",
      "music_len     float64\n",
      "pay           float64\n",
      "long_play     bool\n",
      "long_music    bool\n",
      "dtypes: bool(2), float64(4), object(5)\n",
      "memory usage: 240.7+ MB\n"
     ]
    }
   ],
   "source": [
    "df.info()"
   ]
  },
  {
   "cell_type": "code",
   "execution_count": 6,
   "metadata": {
    "collapsed": false,
    "scrolled": true
   },
   "outputs": [
    {
     "data": {
      "text/plain": [
       "user_id       0\n",
       "user_os       0\n",
       "music_id      0\n",
       "music_type    0\n",
       "music_name    0\n",
       "singer        0\n",
       "play_len      0\n",
       "music_len     0\n",
       "pay           0\n",
       "long_play     0\n",
       "long_music    0\n",
       "dtype: int64"
      ]
     },
     "execution_count": 6,
     "metadata": {},
     "output_type": "execute_result"
    }
   ],
   "source": [
    "df.isnull().sum(axis=0)"
   ]
  },
  {
   "cell_type": "code",
   "execution_count": 7,
   "metadata": {
    "collapsed": false
   },
   "outputs": [],
   "source": [
    "# generate feature rate\n",
    "\n",
    "import numpy as np\n",
    "import matplotlib.pyplot as plt\n",
    "\n",
    "rate = df.play_len/df.music_len\n",
    "# replace invalid value\n",
    "rate = rate.replace([np.inf, -np.inf], -1)\n",
    "df['rate'] = rate"
   ]
  },
  {
   "cell_type": "code",
   "execution_count": 8,
   "metadata": {
    "collapsed": false,
    "scrolled": false
   },
   "outputs": [
    {
     "data": {
      "text/plain": [
       "count    3.287464e+06\n",
       "mean    -9.759583e+04\n",
       "std      1.768622e+08\n",
       "min     -3.206753e+11\n",
       "25%      1.403509e-02\n",
       "50%      2.611765e-01\n",
       "75%      9.951923e-01\n",
       "max      1.133359e+05\n",
       "Name: rate, dtype: float64"
      ]
     },
     "execution_count": 8,
     "metadata": {},
     "output_type": "execute_result"
    }
   ],
   "source": [
    "# display rate statistics\n",
    "df['rate'].describe()"
   ]
  },
  {
   "cell_type": "code",
   "execution_count": 9,
   "metadata": {
    "collapsed": false
   },
   "outputs": [
    {
     "data": {
      "text/plain": [
       "0.015    -1.000000\n",
       "0.985    30.837886\n",
       "Name: rate, dtype: float64"
      ]
     },
     "execution_count": 9,
     "metadata": {},
     "output_type": "execute_result"
    }
   ],
   "source": [
    "# display the range of 97% data\n",
    "df['rate'].quantile([0.015, 0.985])"
   ]
  },
  {
   "cell_type": "code",
   "execution_count": 10,
   "metadata": {
    "collapsed": false
   },
   "outputs": [],
   "source": [
    "# generate feature abnormal_rate\n",
    "df['abnormal_rate'] = (df['rate'] <= -1) | (df['rate'] >= 31)"
   ]
  },
  {
   "cell_type": "code",
   "execution_count": 11,
   "metadata": {
    "collapsed": false
   },
   "outputs": [
    {
     "name": "stderr",
     "output_type": "stream",
     "text": [
      "/home/ye/anaconda3/lib/python3.6/site-packages/pandas/core/indexing.py:477: SettingWithCopyWarning: \n",
      "A value is trying to be set on a copy of a slice from a DataFrame.\n",
      "Try using .loc[row_indexer,col_indexer] = value instead\n",
      "\n",
      "See the caveats in the documentation: http://pandas.pydata.org/pandas-docs/stable/indexing.html#indexing-view-versus-copy\n",
      "  self.obj[item] = s\n"
     ]
    }
   ],
   "source": [
    "music_rate = df[['music_id', 'rate']]\n",
    "music_rate.loc[df['abnormal_rate'],'rate'] = -1"
   ]
  },
  {
   "cell_type": "code",
   "execution_count": 12,
   "metadata": {
    "collapsed": false
   },
   "outputs": [
    {
     "name": "stdout",
     "output_type": "stream",
     "text": [
      "count    3.287464e+06\n",
      "mean     3.564739e-01\n",
      "std      9.525025e-01\n",
      "min     -1.000000e+00\n",
      "25%      1.075269e-02\n",
      "50%      2.321429e-01\n",
      "75%      9.926199e-01\n",
      "max      3.096279e+01\n",
      "Name: rate, dtype: float64\n"
     ]
    },
    {
     "data": {
      "image/png": "[encoded data removed]",
      "text/plain": [
       "<matplotlib.figure.Figure at 0x7f46f8afa550>"
      ]
     },
     "metadata": {},
     "output_type": "display_data"
    }
   ],
   "source": [
    "print(music_rate['rate'].describe())\n",
    "music_rate['rate'].plot.hist(bins = 50)\n",
    "plt.show()"
   ]
  },
  {
   "cell_type": "code",
   "execution_count": 13,
   "metadata": {
    "collapsed": false
   },
   "outputs": [
    {
     "data": {
      "text/html": [
       "<div>\n",
       "<table border=\"1\" class=\"dataframe\">\n",
       "  <thead>\n",
       "    <tr style=\"text-align: right;\">\n",
       "      <th></th>\n",
       "      <th>music_id</th>\n",
       "      <th>rate</th>\n",
       "    </tr>\n",
       "  </thead>\n",
       "  <tbody>\n",
       "    <tr>\n",
       "      <th>0</th>\n",
       "      <td>20870993</td>\n",
       "      <td>-1.000000</td>\n",
       "    </tr>\n",
       "    <tr>\n",
       "      <th>1</th>\n",
       "      <td>6560858</td>\n",
       "      <td>0.596273</td>\n",
       "    </tr>\n",
       "    <tr>\n",
       "      <th>2</th>\n",
       "      <td>3385963</td>\n",
       "      <td>-1.000000</td>\n",
       "    </tr>\n",
       "    <tr>\n",
       "      <th>3</th>\n",
       "      <td>6777172</td>\n",
       "      <td>0.691983</td>\n",
       "    </tr>\n",
       "    <tr>\n",
       "      <th>4</th>\n",
       "      <td>19472465</td>\n",
       "      <td>0.119403</td>\n",
       "    </tr>\n",
       "    <tr>\n",
       "      <th>5</th>\n",
       "      <td>3198036</td>\n",
       "      <td>-1.000000</td>\n",
       "    </tr>\n",
       "    <tr>\n",
       "      <th>6</th>\n",
       "      <td>891952</td>\n",
       "      <td>1.000000</td>\n",
       "    </tr>\n",
       "    <tr>\n",
       "      <th>7</th>\n",
       "      <td>4623962</td>\n",
       "      <td>1.000000</td>\n",
       "    </tr>\n",
       "    <tr>\n",
       "      <th>8</th>\n",
       "      <td>703750</td>\n",
       "      <td>1.000000</td>\n",
       "    </tr>\n",
       "    <tr>\n",
       "      <th>9</th>\n",
       "      <td>6491500</td>\n",
       "      <td>0.304348</td>\n",
       "    </tr>\n",
       "  </tbody>\n",
       "</table>\n",
       "</div>"
      ],
      "text/plain": [
       "   music_id      rate\n",
       "0  20870993 -1.000000\n",
       "1   6560858  0.596273\n",
       "2   3385963 -1.000000\n",
       "3   6777172  0.691983\n",
       "4  19472465  0.119403\n",
       "5   3198036 -1.000000\n",
       "6    891952  1.000000\n",
       "7   4623962  1.000000\n",
       "8    703750  1.000000\n",
       "9   6491500  0.304348"
      ]
     },
     "execution_count": 13,
     "metadata": {},
     "output_type": "execute_result"
    }
   ],
   "source": [
    "music_rate.head(10)"
   ]
  },
  {
   "cell_type": "code",
   "execution_count": 14,
   "metadata": {
    "collapsed": false
   },
   "outputs": [
    {
     "name": "stdout",
     "output_type": "stream",
     "text": [
      "count    1354.000000\n",
      "mean        0.351633\n",
      "std         0.999075\n",
      "min        -1.000000\n",
      "10%        -1.000000\n",
      "25%         0.003333\n",
      "50%         0.241667\n",
      "75%         0.996667\n",
      "90%         1.000000\n",
      "max        27.223333\n",
      "Name: rate, dtype: float64\n"
     ]
    }
   ],
   "source": [
    "# example\n",
    "example_rate = music_rate.loc[music_rate['music_id'] == '891952','rate']\n",
    "print(example_rate.describe(percentiles=[0.1, 0.25, 0.5, 0.75, 0.9]))"
   ]
  },
  {
   "cell_type": "code",
   "execution_count": 15,
   "metadata": {
    "collapsed": false
   },
   "outputs": [],
   "source": [
    "# estimate popularity of a song\n",
    "music_average_rate = music_rate.groupby(['music_id'])['rate'].quantile(0.5)\n"
   ]
  },
  {
   "cell_type": "code",
   "execution_count": 16,
   "metadata": {
    "collapsed": false
   },
   "outputs": [
    {
     "name": "stdout",
     "output_type": "stream",
     "text": [
      "(309230,)\n",
      "(3411003,)\n",
      "(174958,)\n",
      "(3411003,)\n"
     ]
    }
   ],
   "source": [
    "print(df['music_id'].unique().shape)\n",
    "print(df['music_id'].shape)\n",
    "print(df['user_id'].unique().shape)\n",
    "print(df['user_id'].shape)"
   ]
  },
  {
   "cell_type": "code",
   "execution_count": 19,
   "metadata": {
    "collapsed": false
   },
   "outputs": [
    {
     "data": {
      "text/plain": [
       "0.9966666666666667"
      ]
     },
     "execution_count": 19,
     "metadata": {},
     "output_type": "execute_result"
    }
   ],
   "source": [
    "example_rate.quantile(.75)"
   ]
  },
  {
   "cell_type": "code",
   "execution_count": 17,
   "metadata": {
    "collapsed": false
   },
   "outputs": [
    {
     "name": "stdout",
     "output_type": "stream",
     "text": [
      "(309230,)\n",
      "74864\n"
     ]
    }
   ],
   "source": [
    "print(music_average_rate.shape)\n",
    "print(sum(music_average_rate > 0.5))"
   ]
  },
  {
   "cell_type": "code",
   "execution_count": 23,
   "metadata": {
    "collapsed": false
   },
   "outputs": [],
   "source": [
    "popular_music = music_average_rate > music_average_rate.quantile(.9)"
   ]
  },
  {
   "cell_type": "code",
   "execution_count": 24,
   "metadata": {
    "collapsed": false
   },
   "outputs": [
    {
     "data": {
      "text/plain": [
       "count    304962.000000\n",
       "mean          0.220513\n",
       "std           0.676524\n",
       "min          -1.000000\n",
       "10%          -0.143397\n",
       "25%           0.017045\n",
       "50%           0.144444\n",
       "75%           0.499593\n",
       "90%           0.979503\n",
       "max          30.924514\n",
       "Name: rate, dtype: float64"
      ]
     },
     "execution_count": 24,
     "metadata": {},
     "output_type": "execute_result"
    }
   ],
   "source": [
    "music_average_rate.describe(percentiles=[0.1, 0.25, 0.5, 0.75, 0.9])"
   ]
  },
  {
   "cell_type": "code",
   "execution_count": 26,
   "metadata": {
    "collapsed": false
   },
   "outputs": [
    {
     "data": {
      "image/png": "[encoded data removed]",
      "text/plain": [
       "<matplotlib.figure.Figure at 0x7f46fb312c88>"
      ]
     },
     "metadata": {},
     "output_type": "display_data"
    }
   ],
   "source": [
    "music_average_rate.plot.box()\n",
    "plt.show()"
   ]
  },
  {
   "cell_type": "code",
   "execution_count": 27,
   "metadata": {
    "collapsed": false
   },
   "outputs": [
    {
     "data": {
      "text/plain": [
       "Index(['-1', '0', '1000013', '10000462', '1000061', '10000631', '1000064',\n",
       "       '10001298', '1000174', '1000178',\n",
       "       ...\n",
       "       '9995015', '999579', '999790', '9997929', '9998311', '9999035',\n",
       "       '9999059', '999908', '9999854', '9999930'],\n",
       "      dtype='object', name='music_id', length=309230)"
      ]
     },
     "execution_count": 27,
     "metadata": {},
     "output_type": "execute_result"
    }
   ],
   "source": [
    "popular_music.index"
   ]
  },
  {
   "cell_type": "code",
   "execution_count": 31,
   "metadata": {
    "collapsed": false
   },
   "outputs": [
    {
     "data": {
      "text/plain": [
       "Index(['10005059', '10005139', '100052', '1000555', '1000755', '1000898',\n",
       "       '1001070', '1001076', '1001140', '10013504',\n",
       "       ...\n",
       "       '9984622', '998797', '9988106', '998932', '999066', '99923', '999306',\n",
       "       '999342', '999579', '9999930'],\n",
       "      dtype='object', name='music_id', length=30497)"
      ]
     },
     "execution_count": 31,
     "metadata": {},
     "output_type": "execute_result"
    }
   ],
   "source": [
    "music_average_rate[popular_music].index"
   ]
  }
 ],
 "metadata": {
  "kernelspec": {
   "display_name": "Python 3",
   "language": "python",
   "name": "python3"
  },
  "language_info": {
   "codemirror_mode": {
    "name": "ipython",
    "version": 3
   },
   "file_extension": ".py",
   "mimetype": "text/x-python",
   "name": "python",
   "nbconvert_exporter": "python",
   "pygments_lexer": "ipython3",
   "version": "3.6.0"
  }
 },
 "nbformat": 4,
 "nbformat_minor": 2
}
