{
 "cells": [
  {
   "cell_type": "code",
   "execution_count": 1,
   "metadata": {
    "collapsed": false
   },
   "outputs": [],
   "source": [
    "# load data\n",
    "import pandas as pd\n",
    "import numpy as np\n",
    "import matplotlib.pyplot as plt\n",
    "\n",
    "def popular(filename):\n",
    "    df = pd.read_csv(filename, engine = 'python')\n",
    "    df['music_id'] = df[\"music_id\"].astype('str')\n",
    "    df['user_id'] = df[\"user_id\"].astype('str')\n",
    "\n",
    "    rate = df.play_len/df.music_len\n",
    "    # replace invalid value\n",
    "    rate = rate.replace([np.inf, -np.inf], -1)\n",
    "    df['rate'] = rate\n",
    "    # generate feature abnormal_rate; a song is repeated more than 30 times, is view as abnormal\n",
    "    df['abnormal_rate'] = (df['rate'] <= -1) | (df['rate'] >= 31)\n",
    "\n",
    "    # set abnormal music rate to -1\n",
    "    music_rate = df[['music_id', 'rate']]\n",
    "    music_rate.loc[df['abnormal_rate'],'rate'] = -1\n",
    "\n",
    "    # 50% quantile of the rate\n",
    "    music_average_rate = music_rate.groupby(['music_id'])['rate'].quantile(0.5)\n",
    "\n",
    "    # 90% quantile of the rate, averagly the music is proper listened\n",
    "    popular_music = music_average_rate > music_average_rate.quantile(.9)\n",
    "\n",
    "    # extract the music id\n",
    "    return music_average_rate[popular_music].index"
   ]
  },
  {
   "cell_type": "code",
   "execution_count": 3,
   "metadata": {
    "collapsed": false
   },
   "outputs": [
    {
     "name": "stderr",
     "output_type": "stream",
     "text": [
      "/home/ye/anaconda3/lib/python3.6/site-packages/pandas/core/indexing.py:477: SettingWithCopyWarning: \n",
      "A value is trying to be set on a copy of a slice from a DataFrame.\n",
      "Try using .loc[row_indexer,col_indexer] = value instead\n",
      "\n",
      "See the caveats in the documentation: http://pandas.pydata.org/pandas-docs/stable/indexing.html#indexing-view-versus-copy\n",
      "  self.obj[item] = s\n"
     ]
    }
   ],
   "source": [
    "file = ['0301_c1.csv', '0302_c1.csv', '0303_c1.csv']\n",
    "popular = [popular(name) for name in file]"
   ]
  }
 ],
 "metadata": {
  "kernelspec": {
   "display_name": "Python 3",
   "language": "python",
   "name": "python3"
  },
  "language_info": {
   "codemirror_mode": {
    "name": "ipython",
    "version": 3
   },
   "file_extension": ".py",
   "mimetype": "text/x-python",
   "name": "python",
   "nbconvert_exporter": "python",
   "pygments_lexer": "ipython3",
   "version": "3.6.0"
  }
 },
 "nbformat": 4,
 "nbformat_minor": 2
}
