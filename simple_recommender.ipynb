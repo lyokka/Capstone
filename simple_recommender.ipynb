{
 "cells": [
  {
   "cell_type": "code",
   "execution_count": 1,
   "metadata": {
    "collapsed": true
   },
   "outputs": [],
   "source": [
    "import graphlab as gl"
   ]
  },
  {
   "cell_type": "code",
   "execution_count": 2,
   "metadata": {
    "collapsed": false,
    "scrolled": true
   },
   "outputs": [
    {
     "name": "stderr",
     "output_type": "stream",
     "text": [
      "[INFO] graphlab.cython.cy_server: GraphLab Create v2.1 started. Logging: /tmp/graphlab_server_1491620051.log\n"
     ]
    },
    {
     "name": "stdout",
     "output_type": "stream",
     "text": [
      "This non-commercial license of GraphLab Create for academic use is assigned to 6linye9@gmail.com and will expire on April 07, 2018.\n"
     ]
    },
    {
     "data": {
      "text/html": [
       "<pre>Finished parsing file /home/ye/Desktop/DS501/capstone/0301_3_rating.csv</pre>"
      ],
      "text/plain": [
       "Finished parsing file /home/ye/Desktop/DS501/capstone/0301_3_rating.csv"
      ]
     },
     "metadata": {},
     "output_type": "display_data"
    },
    {
     "data": {
      "text/html": [
       "<pre>Parsing completed. Parsed 100 lines in 1.9809 secs.</pre>"
      ],
      "text/plain": [
       "Parsing completed. Parsed 100 lines in 1.9809 secs."
      ]
     },
     "metadata": {},
     "output_type": "display_data"
    },
    {
     "name": "stdout",
     "output_type": "stream",
     "text": [
      "------------------------------------------------------\n",
      "Inferred types from first 100 line(s) of file as \n",
      "column_type_hints=[int,int,float]\n",
      "If parsing fails due to incorrect types, you can correct\n",
      "the inferred type list above and pass it to read_csv in\n",
      "the column_type_hints argument\n",
      "------------------------------------------------------\n"
     ]
    },
    {
     "data": {
      "text/html": [
       "<pre>Read 2398320 lines. Lines per second: 757574</pre>"
      ],
      "text/plain": [
       "Read 2398320 lines. Lines per second: 757574"
      ]
     },
     "metadata": {},
     "output_type": "display_data"
    },
    {
     "data": {
      "text/html": [
       "<pre>Finished parsing file /home/ye/Desktop/DS501/capstone/0301_3_rating.csv</pre>"
      ],
      "text/plain": [
       "Finished parsing file /home/ye/Desktop/DS501/capstone/0301_3_rating.csv"
      ]
     },
     "metadata": {},
     "output_type": "display_data"
    },
    {
     "data": {
      "text/html": [
       "<pre>Parsing completed. Parsed 6035319 lines in 4.80729 secs.</pre>"
      ],
      "text/plain": [
       "Parsing completed. Parsed 6035319 lines in 4.80729 secs."
      ]
     },
     "metadata": {},
     "output_type": "display_data"
    }
   ],
   "source": [
    "sf = gl.SFrame.read_csv('0301_3_rating.csv')"
   ]
  },
  {
   "cell_type": "code",
   "execution_count": 3,
   "metadata": {
    "collapsed": false
   },
   "outputs": [
    {
     "data": {
      "text/html": [
       "<div style=\"max-height:1000px;max-width:1500px;overflow:auto;\"><table frame=\"box\" rules=\"cols\">\n",
       "    <tr>\n",
       "        <th style=\"padding-left: 1em; padding-right: 1em; text-align: center\">user_id</th>\n",
       "        <th style=\"padding-left: 1em; padding-right: 1em; text-align: center\">music_id</th>\n",
       "        <th style=\"padding-left: 1em; padding-right: 1em; text-align: center\">rating</th>\n",
       "    </tr>\n",
       "    <tr>\n",
       "        <td style=\"padding-left: 1em; padding-right: 1em; text-align: center; vertical-align: top\">154421907</td>\n",
       "        <td style=\"padding-left: 1em; padding-right: 1em; text-align: center; vertical-align: top\">6560858</td>\n",
       "        <td style=\"padding-left: 1em; padding-right: 1em; text-align: center; vertical-align: top\">3.0</td>\n",
       "    </tr>\n",
       "    <tr>\n",
       "        <td style=\"padding-left: 1em; padding-right: 1em; text-align: center; vertical-align: top\">154410267</td>\n",
       "        <td style=\"padding-left: 1em; padding-right: 1em; text-align: center; vertical-align: top\">6777172</td>\n",
       "        <td style=\"padding-left: 1em; padding-right: 1em; text-align: center; vertical-align: top\">3.0</td>\n",
       "    </tr>\n",
       "    <tr>\n",
       "        <td style=\"padding-left: 1em; padding-right: 1em; text-align: center; vertical-align: top\">154407793</td>\n",
       "        <td style=\"padding-left: 1em; padding-right: 1em; text-align: center; vertical-align: top\">19472465</td>\n",
       "        <td style=\"padding-left: 1em; padding-right: 1em; text-align: center; vertical-align: top\">1.0</td>\n",
       "    </tr>\n",
       "    <tr>\n",
       "        <td style=\"padding-left: 1em; padding-right: 1em; text-align: center; vertical-align: top\">154422681</td>\n",
       "        <td style=\"padding-left: 1em; padding-right: 1em; text-align: center; vertical-align: top\">891952</td>\n",
       "        <td style=\"padding-left: 1em; padding-right: 1em; text-align: center; vertical-align: top\">5.0</td>\n",
       "    </tr>\n",
       "    <tr>\n",
       "        <td style=\"padding-left: 1em; padding-right: 1em; text-align: center; vertical-align: top\">154408091</td>\n",
       "        <td style=\"padding-left: 1em; padding-right: 1em; text-align: center; vertical-align: top\">4623962</td>\n",
       "        <td style=\"padding-left: 1em; padding-right: 1em; text-align: center; vertical-align: top\">5.0</td>\n",
       "    </tr>\n",
       "    <tr>\n",
       "        <td style=\"padding-left: 1em; padding-right: 1em; text-align: center; vertical-align: top\">154422571</td>\n",
       "        <td style=\"padding-left: 1em; padding-right: 1em; text-align: center; vertical-align: top\">703750</td>\n",
       "        <td style=\"padding-left: 1em; padding-right: 1em; text-align: center; vertical-align: top\">5.0</td>\n",
       "    </tr>\n",
       "    <tr>\n",
       "        <td style=\"padding-left: 1em; padding-right: 1em; text-align: center; vertical-align: top\">154417311</td>\n",
       "        <td style=\"padding-left: 1em; padding-right: 1em; text-align: center; vertical-align: top\">6491500</td>\n",
       "        <td style=\"padding-left: 1em; padding-right: 1em; text-align: center; vertical-align: top\">2.0</td>\n",
       "    </tr>\n",
       "    <tr>\n",
       "        <td style=\"padding-left: 1em; padding-right: 1em; text-align: center; vertical-align: top\">154421166</td>\n",
       "        <td style=\"padding-left: 1em; padding-right: 1em; text-align: center; vertical-align: top\">1967689</td>\n",
       "        <td style=\"padding-left: 1em; padding-right: 1em; text-align: center; vertical-align: top\">3.0</td>\n",
       "    </tr>\n",
       "    <tr>\n",
       "        <td style=\"padding-left: 1em; padding-right: 1em; text-align: center; vertical-align: top\">154421859</td>\n",
       "        <td style=\"padding-left: 1em; padding-right: 1em; text-align: center; vertical-align: top\">6126586</td>\n",
       "        <td style=\"padding-left: 1em; padding-right: 1em; text-align: center; vertical-align: top\">1.0</td>\n",
       "    </tr>\n",
       "    <tr>\n",
       "        <td style=\"padding-left: 1em; padding-right: 1em; text-align: center; vertical-align: top\">154422660</td>\n",
       "        <td style=\"padding-left: 1em; padding-right: 1em; text-align: center; vertical-align: top\">11914644</td>\n",
       "        <td style=\"padding-left: 1em; padding-right: 1em; text-align: center; vertical-align: top\">5.0</td>\n",
       "    </tr>\n",
       "</table>\n",
       "[6035319 rows x 3 columns]<br/>Note: Only the head of the SFrame is printed.<br/>You can use print_rows(num_rows=m, num_columns=n) to print more rows and columns.\n",
       "</div>"
      ],
      "text/plain": [
       "Columns:\n",
       "\tuser_id\tint\n",
       "\tmusic_id\tint\n",
       "\trating\tfloat\n",
       "\n",
       "Rows: 6035319\n",
       "\n",
       "Data:\n",
       "+-----------+----------+--------+\n",
       "|  user_id  | music_id | rating |\n",
       "+-----------+----------+--------+\n",
       "| 154421907 | 6560858  |  3.0   |\n",
       "| 154410267 | 6777172  |  3.0   |\n",
       "| 154407793 | 19472465 |  1.0   |\n",
       "| 154422681 |  891952  |  5.0   |\n",
       "| 154408091 | 4623962  |  5.0   |\n",
       "| 154422571 |  703750  |  5.0   |\n",
       "| 154417311 | 6491500  |  2.0   |\n",
       "| 154421166 | 1967689  |  3.0   |\n",
       "| 154421859 | 6126586  |  1.0   |\n",
       "| 154422660 | 11914644 |  5.0   |\n",
       "+-----------+----------+--------+\n",
       "[6035319 rows x 3 columns]\n",
       "Note: Only the head of the SFrame is printed.\n",
       "You can use print_rows(num_rows=m, num_columns=n) to print more rows and columns."
      ]
     },
     "execution_count": 3,
     "metadata": {},
     "output_type": "execute_result"
    }
   ],
   "source": [
    "sf"
   ]
  },
  {
   "cell_type": "code",
   "execution_count": 4,
   "metadata": {
    "collapsed": false
   },
   "outputs": [
    {
     "data": {
      "text/html": [
       "<pre>Recsys training: model = factorization_recommender</pre>"
      ],
      "text/plain": [
       "Recsys training: model = factorization_recommender"
      ]
     },
     "metadata": {},
     "output_type": "display_data"
    },
    {
     "data": {
      "text/html": [
       "<pre>Preparing data set.</pre>"
      ],
      "text/plain": [
       "Preparing data set."
      ]
     },
     "metadata": {},
     "output_type": "display_data"
    },
    {
     "data": {
      "text/html": [
       "<pre>    Data has 6027295 observations with 172243 users and 411691 items.</pre>"
      ],
      "text/plain": [
       "    Data has 6027295 observations with 172243 users and 411691 items."
      ]
     },
     "metadata": {},
     "output_type": "display_data"
    },
    {
     "data": {
      "text/html": [
       "<pre>    Data prepared in: 13.0526s</pre>"
      ],
      "text/plain": [
       "    Data prepared in: 13.0526s"
      ]
     },
     "metadata": {},
     "output_type": "display_data"
    },
    {
     "data": {
      "text/html": [
       "<pre>Training factorization_recommender for recommendations.</pre>"
      ],
      "text/plain": [
       "Training factorization_recommender for recommendations."
      ]
     },
     "metadata": {},
     "output_type": "display_data"
    },
    {
     "data": {
      "text/html": [
       "<pre>+--------------------------------+--------------------------------------------------+----------+</pre>"
      ],
      "text/plain": [
       "+--------------------------------+--------------------------------------------------+----------+"
      ]
     },
     "metadata": {},
     "output_type": "display_data"
    },
    {
     "data": {
      "text/html": [
       "<pre>| Parameter                      | Description                                      | Value    |</pre>"
      ],
      "text/plain": [
       "| Parameter                      | Description                                      | Value    |"
      ]
     },
     "metadata": {},
     "output_type": "display_data"
    },
    {
     "data": {
      "text/html": [
       "<pre>+--------------------------------+--------------------------------------------------+----------+</pre>"
      ],
      "text/plain": [
       "+--------------------------------+--------------------------------------------------+----------+"
      ]
     },
     "metadata": {},
     "output_type": "display_data"
    },
    {
     "data": {
      "text/html": [
       "<pre>| num_factors                    | Factor Dimension                                 | 8        |</pre>"
      ],
      "text/plain": [
       "| num_factors                    | Factor Dimension                                 | 8        |"
      ]
     },
     "metadata": {},
     "output_type": "display_data"
    },
    {
     "data": {
      "text/html": [
       "<pre>| regularization                 | L2 Regularization on Factors                     | 1e-08    |</pre>"
      ],
      "text/plain": [
       "| regularization                 | L2 Regularization on Factors                     | 1e-08    |"
      ]
     },
     "metadata": {},
     "output_type": "display_data"
    },
    {
     "data": {
      "text/html": [
       "<pre>| solver                         | Solver used for training                         | sgd      |</pre>"
      ],
      "text/plain": [
       "| solver                         | Solver used for training                         | sgd      |"
      ]
     },
     "metadata": {},
     "output_type": "display_data"
    },
    {
     "data": {
      "text/html": [
       "<pre>| linear_regularization          | L2 Regularization on Linear Coefficients         | 1e-10    |</pre>"
      ],
      "text/plain": [
       "| linear_regularization          | L2 Regularization on Linear Coefficients         | 1e-10    |"
      ]
     },
     "metadata": {},
     "output_type": "display_data"
    },
    {
     "data": {
      "text/html": [
       "<pre>| max_iterations                 | Maximum Number of Iterations                     | 50       |</pre>"
      ],
      "text/plain": [
       "| max_iterations                 | Maximum Number of Iterations                     | 50       |"
      ]
     },
     "metadata": {},
     "output_type": "display_data"
    },
    {
     "data": {
      "text/html": [
       "<pre>+--------------------------------+--------------------------------------------------+----------+</pre>"
      ],
      "text/plain": [
       "+--------------------------------+--------------------------------------------------+----------+"
      ]
     },
     "metadata": {},
     "output_type": "display_data"
    },
    {
     "data": {
      "text/html": [
       "<pre>  Optimizing model using SGD; tuning step size.</pre>"
      ],
      "text/plain": [
       "  Optimizing model using SGD; tuning step size."
      ]
     },
     "metadata": {},
     "output_type": "display_data"
    },
    {
     "data": {
      "text/html": [
       "<pre>  Using 753411 / 6027295 points for tuning the step size.</pre>"
      ],
      "text/plain": [
       "  Using 753411 / 6027295 points for tuning the step size."
      ]
     },
     "metadata": {},
     "output_type": "display_data"
    },
    {
     "data": {
      "text/html": [
       "<pre>+---------+-------------------+------------------------------------------+</pre>"
      ],
      "text/plain": [
       "+---------+-------------------+------------------------------------------+"
      ]
     },
     "metadata": {},
     "output_type": "display_data"
    },
    {
     "data": {
      "text/html": [
       "<pre>| Attempt | Initial Step Size | Estimated Objective Value                |</pre>"
      ],
      "text/plain": [
       "| Attempt | Initial Step Size | Estimated Objective Value                |"
      ]
     },
     "metadata": {},
     "output_type": "display_data"
    },
    {
     "data": {
      "text/html": [
       "<pre>+---------+-------------------+------------------------------------------+</pre>"
      ],
      "text/plain": [
       "+---------+-------------------+------------------------------------------+"
      ]
     },
     "metadata": {},
     "output_type": "display_data"
    },
    {
     "data": {
      "text/html": [
       "<pre>| 0       | 25                | Not Viable                               |</pre>"
      ],
      "text/plain": [
       "| 0       | 25                | Not Viable                               |"
      ]
     },
     "metadata": {},
     "output_type": "display_data"
    },
    {
     "data": {
      "text/html": [
       "<pre>| 1       | 6.25              | Not Viable                               |</pre>"
      ],
      "text/plain": [
       "| 1       | 6.25              | Not Viable                               |"
      ]
     },
     "metadata": {},
     "output_type": "display_data"
    },
    {
     "data": {
      "text/html": [
       "<pre>| 2       | 1.5625            | Not Viable                               |</pre>"
      ],
      "text/plain": [
       "| 2       | 1.5625            | Not Viable                               |"
      ]
     },
     "metadata": {},
     "output_type": "display_data"
    },
    {
     "data": {
      "text/html": [
       "<pre>| 3       | 0.390625          | Not Viable                               |</pre>"
      ],
      "text/plain": [
       "| 3       | 0.390625          | Not Viable                               |"
      ]
     },
     "metadata": {},
     "output_type": "display_data"
    },
    {
     "data": {
      "text/html": [
       "<pre>| 4       | 0.0976562         | 0.659948                                 |</pre>"
      ],
      "text/plain": [
       "| 4       | 0.0976562         | 0.659948                                 |"
      ]
     },
     "metadata": {},
     "output_type": "display_data"
    },
    {
     "data": {
      "text/html": [
       "<pre>| 5       | 0.0488281         | 1.29008                                  |</pre>"
      ],
      "text/plain": [
       "| 5       | 0.0488281         | 1.29008                                  |"
      ]
     },
     "metadata": {},
     "output_type": "display_data"
    },
    {
     "data": {
      "text/html": [
       "<pre>| 6       | 0.0244141         | 1.78066                                  |</pre>"
      ],
      "text/plain": [
       "| 6       | 0.0244141         | 1.78066                                  |"
      ]
     },
     "metadata": {},
     "output_type": "display_data"
    },
    {
     "data": {
      "text/html": [
       "<pre>+---------+-------------------+------------------------------------------+</pre>"
      ],
      "text/plain": [
       "+---------+-------------------+------------------------------------------+"
      ]
     },
     "metadata": {},
     "output_type": "display_data"
    },
    {
     "data": {
      "text/html": [
       "<pre>| Final   | 0.0976562         | 0.659948                                 |</pre>"
      ],
      "text/plain": [
       "| Final   | 0.0976562         | 0.659948                                 |"
      ]
     },
     "metadata": {},
     "output_type": "display_data"
    },
    {
     "data": {
      "text/html": [
       "<pre>+---------+-------------------+------------------------------------------+</pre>"
      ],
      "text/plain": [
       "+---------+-------------------+------------------------------------------+"
      ]
     },
     "metadata": {},
     "output_type": "display_data"
    },
    {
     "data": {
      "text/html": [
       "<pre>Starting Optimization.</pre>"
      ],
      "text/plain": [
       "Starting Optimization."
      ]
     },
     "metadata": {},
     "output_type": "display_data"
    },
    {
     "data": {
      "text/html": [
       "<pre>+---------+--------------+-------------------+-----------------------+-------------+</pre>"
      ],
      "text/plain": [
       "+---------+--------------+-------------------+-----------------------+-------------+"
      ]
     },
     "metadata": {},
     "output_type": "display_data"
    },
    {
     "data": {
      "text/html": [
       "<pre>| Iter.   | Elapsed Time | Approx. Objective | Approx. Training RMSE | Step Size   |</pre>"
      ],
      "text/plain": [
       "| Iter.   | Elapsed Time | Approx. Objective | Approx. Training RMSE | Step Size   |"
      ]
     },
     "metadata": {},
     "output_type": "display_data"
    },
    {
     "data": {
      "text/html": [
       "<pre>+---------+--------------+-------------------+-----------------------+-------------+</pre>"
      ],
      "text/plain": [
       "+---------+--------------+-------------------+-----------------------+-------------+"
      ]
     },
     "metadata": {},
     "output_type": "display_data"
    },
    {
     "data": {
      "text/html": [
       "<pre>| Initial | 193us        | 3.32764           | 1.82418               |             |</pre>"
      ],
      "text/plain": [
       "| Initial | 193us        | 3.32764           | 1.82418               |             |"
      ]
     },
     "metadata": {},
     "output_type": "display_data"
    },
    {
     "data": {
      "text/html": [
       "<pre>+---------+--------------+-------------------+-----------------------+-------------+</pre>"
      ],
      "text/plain": [
       "+---------+--------------+-------------------+-----------------------+-------------+"
      ]
     },
     "metadata": {},
     "output_type": "display_data"
    },
    {
     "data": {
      "text/html": [
       "<pre>| 1       | 2.11s        | 3.19864           | 1.78662               | 0.0976562   |</pre>"
      ],
      "text/plain": [
       "| 1       | 2.11s        | 3.19864           | 1.78662               | 0.0976562   |"
      ]
     },
     "metadata": {},
     "output_type": "display_data"
    },
    {
     "data": {
      "text/html": [
       "<pre>| 2       | 3.89s        | 2.40327           | 1.5488                | 0.0580668   |</pre>"
      ],
      "text/plain": [
       "| 2       | 3.89s        | 2.40327           | 1.5488                | 0.0580668   |"
      ]
     },
     "metadata": {},
     "output_type": "display_data"
    },
    {
     "data": {
      "text/html": [
       "<pre>| 3       | 5.71s        | 2.05983           | 1.43376               | 0.042841    |</pre>"
      ],
      "text/plain": [
       "| 3       | 5.71s        | 2.05983           | 1.43376               | 0.042841    |"
      ]
     },
     "metadata": {},
     "output_type": "display_data"
    },
    {
     "data": {
      "text/html": [
       "<pre>| 4       | 7.42s        | 1.89222           | 1.37403               | 0.0345267   |</pre>"
      ],
      "text/plain": [
       "| 4       | 7.42s        | 1.89222           | 1.37403               | 0.0345267   |"
      ]
     },
     "metadata": {},
     "output_type": "display_data"
    },
    {
     "data": {
      "text/html": [
       "<pre>| 5       | 9.13s        | 1.78672           | 1.335                 | 0.029206    |</pre>"
      ],
      "text/plain": [
       "| 5       | 9.13s        | 1.78672           | 1.335                 | 0.029206    |"
      ]
     },
     "metadata": {},
     "output_type": "display_data"
    },
    {
     "data": {
      "text/html": [
       "<pre>| 6       | 10.83s       | 1.71393           | 1.30736               | 0.0254734   |</pre>"
      ],
      "text/plain": [
       "| 6       | 10.83s       | 1.71393           | 1.30736               | 0.0254734   |"
      ]
     },
     "metadata": {},
     "output_type": "display_data"
    },
    {
     "data": {
      "text/html": [
       "<pre>| 7       | 12.46s       | 1.65841           | 1.28587               | 0.0226922   |</pre>"
      ],
      "text/plain": [
       "| 7       | 12.46s       | 1.65841           | 1.28587               | 0.0226922   |"
      ]
     },
     "metadata": {},
     "output_type": "display_data"
    },
    {
     "data": {
      "text/html": [
       "<pre>| 8       | 14.07s       | 1.61639           | 1.26935               | 0.0205297   |</pre>"
      ],
      "text/plain": [
       "| 8       | 14.07s       | 1.61639           | 1.26935               | 0.0205297   |"
      ]
     },
     "metadata": {},
     "output_type": "display_data"
    },
    {
     "data": {
      "text/html": [
       "<pre>| 9       | 15.70s       | 1.58288           | 1.25601               | 0.018794    |</pre>"
      ],
      "text/plain": [
       "| 9       | 15.70s       | 1.58288           | 1.25601               | 0.018794    |"
      ]
     },
     "metadata": {},
     "output_type": "display_data"
    },
    {
     "data": {
      "text/html": [
       "<pre>| 10      | 17.36s       | 1.555             | 1.24481               | 0.017366    |</pre>"
      ],
      "text/plain": [
       "| 10      | 17.36s       | 1.555             | 1.24481               | 0.017366    |"
      ]
     },
     "metadata": {},
     "output_type": "display_data"
    },
    {
     "data": {
      "text/html": [
       "<pre>| 11      | 18.84s       | 1.53137           | 1.23522               | 0.016168    |</pre>"
      ],
      "text/plain": [
       "| 11      | 18.84s       | 1.53137           | 1.23522               | 0.016168    |"
      ]
     },
     "metadata": {},
     "output_type": "display_data"
    },
    {
     "data": {
      "text/html": [
       "<pre>| 12      | 20.19s       | 1.51235           | 1.22745               | 0.0151466   |</pre>"
      ],
      "text/plain": [
       "| 12      | 20.19s       | 1.51235           | 1.22745               | 0.0151466   |"
      ]
     },
     "metadata": {},
     "output_type": "display_data"
    },
    {
     "data": {
      "text/html": [
       "<pre>| 13      | 21.46s       | 1.49534           | 1.22045               | 0.014264    |</pre>"
      ],
      "text/plain": [
       "| 13      | 21.46s       | 1.49534           | 1.22045               | 0.014264    |"
      ]
     },
     "metadata": {},
     "output_type": "display_data"
    },
    {
     "data": {
      "text/html": [
       "<pre>| 14      | 22.94s       | 1.48115           | 1.21458               | 0.0134929   |</pre>"
      ],
      "text/plain": [
       "| 14      | 22.94s       | 1.48115           | 1.21458               | 0.0134929   |"
      ]
     },
     "metadata": {},
     "output_type": "display_data"
    },
    {
     "data": {
      "text/html": [
       "<pre>| 15      | 24.34s       | 1.46766           | 1.20898               | 0.0128124   |</pre>"
      ],
      "text/plain": [
       "| 15      | 24.34s       | 1.46766           | 1.20898               | 0.0128124   |"
      ]
     },
     "metadata": {},
     "output_type": "display_data"
    },
    {
     "data": {
      "text/html": [
       "<pre>| 16      | 25.39s       | 1.45676           | 1.20442               | 0.012207    |</pre>"
      ],
      "text/plain": [
       "| 16      | 25.39s       | 1.45676           | 1.20442               | 0.012207    |"
      ]
     },
     "metadata": {},
     "output_type": "display_data"
    },
    {
     "data": {
      "text/html": [
       "<pre>| 17      | 26.41s       | 1.44639           | 1.20007               | 0.0116644   |</pre>"
      ],
      "text/plain": [
       "| 17      | 26.41s       | 1.44639           | 1.20007               | 0.0116644   |"
      ]
     },
     "metadata": {},
     "output_type": "display_data"
    },
    {
     "data": {
      "text/html": [
       "<pre>| 18      | 27.45s       | 1.43689           | 1.19608               | 0.011175    |</pre>"
      ],
      "text/plain": [
       "| 18      | 27.45s       | 1.43689           | 1.19608               | 0.011175    |"
      ]
     },
     "metadata": {},
     "output_type": "display_data"
    },
    {
     "data": {
      "text/html": [
       "<pre>| 19      | 28.46s       | 1.42816           | 1.19239               | 0.0107309   |</pre>"
      ],
      "text/plain": [
       "| 19      | 28.46s       | 1.42816           | 1.19239               | 0.0107309   |"
      ]
     },
     "metadata": {},
     "output_type": "display_data"
    },
    {
     "data": {
      "text/html": [
       "<pre>| 20      | 29.32s       | 1.42007           | 1.18896               | 0.0103259   |</pre>"
      ],
      "text/plain": [
       "| 20      | 29.32s       | 1.42007           | 1.18896               | 0.0103259   |"
      ]
     },
     "metadata": {},
     "output_type": "display_data"
    },
    {
     "data": {
      "text/html": [
       "<pre>| 21      | 30.01s       | 1.41376           | 1.18627               | 0.00995487  |</pre>"
      ],
      "text/plain": [
       "| 21      | 30.01s       | 1.41376           | 1.18627               | 0.00995487  |"
      ]
     },
     "metadata": {},
     "output_type": "display_data"
    },
    {
     "data": {
      "text/html": [
       "<pre>| 22      | 30.72s       | 1.40647           | 1.18317               | 0.00961353  |</pre>"
      ],
      "text/plain": [
       "| 22      | 30.72s       | 1.40647           | 1.18317               | 0.00961353  |"
      ]
     },
     "metadata": {},
     "output_type": "display_data"
    },
    {
     "data": {
      "text/html": [
       "<pre>| 23      | 31.42s       | 1.40175           | 1.18115               | 0.00929831  |</pre>"
      ],
      "text/plain": [
       "| 23      | 31.42s       | 1.40175           | 1.18115               | 0.00929831  |"
      ]
     },
     "metadata": {},
     "output_type": "display_data"
    },
    {
     "data": {
      "text/html": [
       "<pre>| 24      | 32.23s       | 1.39532           | 1.1784                | 0.0090062   |</pre>"
      ],
      "text/plain": [
       "| 24      | 32.23s       | 1.39532           | 1.1784                | 0.0090062   |"
      ]
     },
     "metadata": {},
     "output_type": "display_data"
    },
    {
     "data": {
      "text/html": [
       "<pre>| 25      | 33.13s       | 1.39065           | 1.17639               | 0.00873464  |</pre>"
      ],
      "text/plain": [
       "| 25      | 33.13s       | 1.39065           | 1.17639               | 0.00873464  |"
      ]
     },
     "metadata": {},
     "output_type": "display_data"
    },
    {
     "data": {
      "text/html": [
       "<pre>| 26      | 33.80s       | 1.38553           | 1.17419               | 0.00848145  |</pre>"
      ],
      "text/plain": [
       "| 26      | 33.80s       | 1.38553           | 1.17419               | 0.00848145  |"
      ]
     },
     "metadata": {},
     "output_type": "display_data"
    },
    {
     "data": {
      "text/html": [
       "<pre>| 27      | 34.46s       | 1.38142           | 1.17242               | 0.00824474  |</pre>"
      ],
      "text/plain": [
       "| 27      | 34.46s       | 1.38142           | 1.17242               | 0.00824474  |"
      ]
     },
     "metadata": {},
     "output_type": "display_data"
    },
    {
     "data": {
      "text/html": [
       "<pre>| 28      | 35.12s       | 1.37717           | 1.17058               | 0.0080229   |</pre>"
      ],
      "text/plain": [
       "| 28      | 35.12s       | 1.37717           | 1.17058               | 0.0080229   |"
      ]
     },
     "metadata": {},
     "output_type": "display_data"
    },
    {
     "data": {
      "text/html": [
       "<pre>| 29      | 35.76s       | 1.37284           | 1.16871               | 0.00781451  |</pre>"
      ],
      "text/plain": [
       "| 29      | 35.76s       | 1.37284           | 1.16871               | 0.00781451  |"
      ]
     },
     "metadata": {},
     "output_type": "display_data"
    },
    {
     "data": {
      "text/html": [
       "<pre>| 30      | 36.39s       | 1.36899           | 1.16704               | 0.00761832  |</pre>"
      ],
      "text/plain": [
       "| 30      | 36.39s       | 1.36899           | 1.16704               | 0.00761832  |"
      ]
     },
     "metadata": {},
     "output_type": "display_data"
    },
    {
     "data": {
      "text/html": [
       "<pre>| 31      | 37.05s       | 1.36577           | 1.16564               | 0.00743325  |</pre>"
      ],
      "text/plain": [
       "| 31      | 37.05s       | 1.36577           | 1.16564               | 0.00743325  |"
      ]
     },
     "metadata": {},
     "output_type": "display_data"
    },
    {
     "data": {
      "text/html": [
       "<pre>| 32      | 37.73s       | 1.36423           | 1.16496               | 0.00725834  |</pre>"
      ],
      "text/plain": [
       "| 32      | 37.73s       | 1.36423           | 1.16496               | 0.00725834  |"
      ]
     },
     "metadata": {},
     "output_type": "display_data"
    },
    {
     "data": {
      "text/html": [
       "<pre>| 33      | 38.40s       | 1.35892           | 1.16266               | 0.00709275  |</pre>"
      ],
      "text/plain": [
       "| 33      | 38.40s       | 1.35892           | 1.16266               | 0.00709275  |"
      ]
     },
     "metadata": {},
     "output_type": "display_data"
    },
    {
     "data": {
      "text/html": [
       "<pre>| 34      | 39.05s       | 1.35605           | 1.16141               | 0.00693571  |</pre>"
      ],
      "text/plain": [
       "| 34      | 39.05s       | 1.35605           | 1.16141               | 0.00693571  |"
      ]
     },
     "metadata": {},
     "output_type": "display_data"
    },
    {
     "data": {
      "text/html": [
       "<pre>| 35      | 39.75s       | 1.35312           | 1.16013               | 0.00678655  |</pre>"
      ],
      "text/plain": [
       "| 35      | 39.75s       | 1.35312           | 1.16013               | 0.00678655  |"
      ]
     },
     "metadata": {},
     "output_type": "display_data"
    },
    {
     "data": {
      "text/html": [
       "<pre>| 36      | 40.45s       | 1.35004           | 1.15879               | 0.00664467  |</pre>"
      ],
      "text/plain": [
       "| 36      | 40.45s       | 1.35004           | 1.15879               | 0.00664467  |"
      ]
     },
     "metadata": {},
     "output_type": "display_data"
    },
    {
     "data": {
      "text/html": [
       "<pre>| 37      | 41.10s       | 1.34753           | 1.15769               | 0.00650952  |</pre>"
      ],
      "text/plain": [
       "| 37      | 41.10s       | 1.34753           | 1.15769               | 0.00650952  |"
      ]
     },
     "metadata": {},
     "output_type": "display_data"
    },
    {
     "data": {
      "text/html": [
       "<pre>| 38      | 41.76s       | 1.34538           | 1.15674               | 0.00638061  |</pre>"
      ],
      "text/plain": [
       "| 38      | 41.76s       | 1.34538           | 1.15674               | 0.00638061  |"
      ]
     },
     "metadata": {},
     "output_type": "display_data"
    },
    {
     "data": {
      "text/html": [
       "<pre>| 39      | 42.39s       | 1.34233           | 1.15541               | 0.00625751  |</pre>"
      ],
      "text/plain": [
       "| 39      | 42.39s       | 1.34233           | 1.15541               | 0.00625751  |"
      ]
     },
     "metadata": {},
     "output_type": "display_data"
    },
    {
     "data": {
      "text/html": [
       "<pre>| 40      | 43.07s       | 1.34053           | 1.15461               | 0.00613981  |</pre>"
      ],
      "text/plain": [
       "| 40      | 43.07s       | 1.34053           | 1.15461               | 0.00613981  |"
      ]
     },
     "metadata": {},
     "output_type": "display_data"
    },
    {
     "data": {
      "text/html": [
       "<pre>| 41      | 43.68s       | 1.33847           | 1.15371               | 0.00602715  |</pre>"
      ],
      "text/plain": [
       "| 41      | 43.68s       | 1.33847           | 1.15371               | 0.00602715  |"
      ]
     },
     "metadata": {},
     "output_type": "display_data"
    },
    {
     "data": {
      "text/html": [
       "<pre>| 42      | 44.40s       | 1.33565           | 1.15247               | 0.0059192   |</pre>"
      ],
      "text/plain": [
       "| 42      | 44.40s       | 1.33565           | 1.15247               | 0.0059192   |"
      ]
     },
     "metadata": {},
     "output_type": "display_data"
    },
    {
     "data": {
      "text/html": [
       "<pre>| 43      | 45.06s       | 1.334             | 1.15174               | 0.00581566  |</pre>"
      ],
      "text/plain": [
       "| 43      | 45.06s       | 1.334             | 1.15174               | 0.00581566  |"
      ]
     },
     "metadata": {},
     "output_type": "display_data"
    },
    {
     "data": {
      "text/html": [
       "<pre>| 44      | 45.68s       | 1.33211           | 1.15091               | 0.00571624  |</pre>"
      ],
      "text/plain": [
       "| 44      | 45.68s       | 1.33211           | 1.15091               | 0.00571624  |"
      ]
     },
     "metadata": {},
     "output_type": "display_data"
    },
    {
     "data": {
      "text/html": [
       "<pre>| 45      | 46.31s       | 1.33016           | 1.15005               | 0.0056207   |</pre>"
      ],
      "text/plain": [
       "| 45      | 46.31s       | 1.33016           | 1.15005               | 0.0056207   |"
      ]
     },
     "metadata": {},
     "output_type": "display_data"
    },
    {
     "data": {
      "text/html": [
       "<pre>| 46      | 46.96s       | 1.32848           | 1.14931               | 0.00552881  |</pre>"
      ],
      "text/plain": [
       "| 46      | 46.96s       | 1.32848           | 1.14931               | 0.00552881  |"
      ]
     },
     "metadata": {},
     "output_type": "display_data"
    },
    {
     "data": {
      "text/html": [
       "<pre>| 47      | 47.59s       | 1.32729           | 1.14877               | 0.00544035  |</pre>"
      ],
      "text/plain": [
       "| 47      | 47.59s       | 1.32729           | 1.14877               | 0.00544035  |"
      ]
     },
     "metadata": {},
     "output_type": "display_data"
    },
    {
     "data": {
      "text/html": [
       "<pre>| 48      | 48.25s       | 1.32481           | 1.14768               | 0.00535512  |</pre>"
      ],
      "text/plain": [
       "| 48      | 48.25s       | 1.32481           | 1.14768               | 0.00535512  |"
      ]
     },
     "metadata": {},
     "output_type": "display_data"
    },
    {
     "data": {
      "text/html": [
       "<pre>| 49      | 48.90s       | 1.32295           | 1.14686               | 0.00527294  |</pre>"
      ],
      "text/plain": [
       "| 49      | 48.90s       | 1.32295           | 1.14686               | 0.00527294  |"
      ]
     },
     "metadata": {},
     "output_type": "display_data"
    },
    {
     "data": {
      "text/html": [
       "<pre>| 50      | 49.50s       | 1.3217            | 1.1463                | 0.00519365  |</pre>"
      ],
      "text/plain": [
       "| 50      | 49.50s       | 1.3217            | 1.1463                | 0.00519365  |"
      ]
     },
     "metadata": {},
     "output_type": "display_data"
    },
    {
     "data": {
      "text/html": [
       "<pre>+---------+--------------+-------------------+-----------------------+-------------+</pre>"
      ],
      "text/plain": [
       "+---------+--------------+-------------------+-----------------------+-------------+"
      ]
     },
     "metadata": {},
     "output_type": "display_data"
    },
    {
     "data": {
      "text/html": [
       "<pre>Optimization Complete: Maximum number of passes through the data reached.</pre>"
      ],
      "text/plain": [
       "Optimization Complete: Maximum number of passes through the data reached."
      ]
     },
     "metadata": {},
     "output_type": "display_data"
    },
    {
     "data": {
      "text/html": [
       "<pre>Computing final objective value and training RMSE.</pre>"
      ],
      "text/plain": [
       "Computing final objective value and training RMSE."
      ]
     },
     "metadata": {},
     "output_type": "display_data"
    },
    {
     "data": {
      "text/html": [
       "<pre>       Final objective value: 1.27673</pre>"
      ],
      "text/plain": [
       "       Final objective value: 1.27673"
      ]
     },
     "metadata": {},
     "output_type": "display_data"
    },
    {
     "data": {
      "text/html": [
       "<pre>       Final training RMSE: 1.12651</pre>"
      ],
      "text/plain": [
       "       Final training RMSE: 1.12651"
      ]
     },
     "metadata": {},
     "output_type": "display_data"
    },
    {
     "data": {
      "text/html": [
       "<pre>Recsys training: model = ranking_factorization_recommender</pre>"
      ],
      "text/plain": [
       "Recsys training: model = ranking_factorization_recommender"
      ]
     },
     "metadata": {},
     "output_type": "display_data"
    },
    {
     "data": {
      "text/html": [
       "<pre>Preparing data set.</pre>"
      ],
      "text/plain": [
       "Preparing data set."
      ]
     },
     "metadata": {},
     "output_type": "display_data"
    },
    {
     "data": {
      "text/html": [
       "<pre>    Data has 6027295 observations with 172243 users and 411691 items.</pre>"
      ],
      "text/plain": [
       "    Data has 6027295 observations with 172243 users and 411691 items."
      ]
     },
     "metadata": {},
     "output_type": "display_data"
    },
    {
     "data": {
      "text/html": [
       "<pre>    Data prepared in: 3.30155s</pre>"
      ],
      "text/plain": [
       "    Data prepared in: 3.30155s"
      ]
     },
     "metadata": {},
     "output_type": "display_data"
    },
    {
     "data": {
      "text/html": [
       "<pre>Training ranking_factorization_recommender for recommendations.</pre>"
      ],
      "text/plain": [
       "Training ranking_factorization_recommender for recommendations."
      ]
     },
     "metadata": {},
     "output_type": "display_data"
    },
    {
     "data": {
      "text/html": [
       "<pre>+--------------------------------+--------------------------------------------------+----------+</pre>"
      ],
      "text/plain": [
       "+--------------------------------+--------------------------------------------------+----------+"
      ]
     },
     "metadata": {},
     "output_type": "display_data"
    },
    {
     "data": {
      "text/html": [
       "<pre>| Parameter                      | Description                                      | Value    |</pre>"
      ],
      "text/plain": [
       "| Parameter                      | Description                                      | Value    |"
      ]
     },
     "metadata": {},
     "output_type": "display_data"
    },
    {
     "data": {
      "text/html": [
       "<pre>+--------------------------------+--------------------------------------------------+----------+</pre>"
      ],
      "text/plain": [
       "+--------------------------------+--------------------------------------------------+----------+"
      ]
     },
     "metadata": {},
     "output_type": "display_data"
    },
    {
     "data": {
      "text/html": [
       "<pre>| num_factors                    | Factor Dimension                                 | 32       |</pre>"
      ],
      "text/plain": [
       "| num_factors                    | Factor Dimension                                 | 32       |"
      ]
     },
     "metadata": {},
     "output_type": "display_data"
    },
    {
     "data": {
      "text/html": [
       "<pre>| regularization                 | L2 Regularization on Factors                     | 1e-09    |</pre>"
      ],
      "text/plain": [
       "| regularization                 | L2 Regularization on Factors                     | 1e-09    |"
      ]
     },
     "metadata": {},
     "output_type": "display_data"
    },
    {
     "data": {
      "text/html": [
       "<pre>| solver                         | Solver used for training                         | sgd      |</pre>"
      ],
      "text/plain": [
       "| solver                         | Solver used for training                         | sgd      |"
      ]
     },
     "metadata": {},
     "output_type": "display_data"
    },
    {
     "data": {
      "text/html": [
       "<pre>| linear_regularization          | L2 Regularization on Linear Coefficients         | 1e-09    |</pre>"
      ],
      "text/plain": [
       "| linear_regularization          | L2 Regularization on Linear Coefficients         | 1e-09    |"
      ]
     },
     "metadata": {},
     "output_type": "display_data"
    },
    {
     "data": {
      "text/html": [
       "<pre>| ranking_regularization         | Rank-based Regularization Weight                 | 0.25     |</pre>"
      ],
      "text/plain": [
       "| ranking_regularization         | Rank-based Regularization Weight                 | 0.25     |"
      ]
     },
     "metadata": {},
     "output_type": "display_data"
    },
    {
     "data": {
      "text/html": [
       "<pre>| max_iterations                 | Maximum Number of Iterations                     | 25       |</pre>"
      ],
      "text/plain": [
       "| max_iterations                 | Maximum Number of Iterations                     | 25       |"
      ]
     },
     "metadata": {},
     "output_type": "display_data"
    },
    {
     "data": {
      "text/html": [
       "<pre>+--------------------------------+--------------------------------------------------+----------+</pre>"
      ],
      "text/plain": [
       "+--------------------------------+--------------------------------------------------+----------+"
      ]
     },
     "metadata": {},
     "output_type": "display_data"
    },
    {
     "data": {
      "text/html": [
       "<pre>  Optimizing model using SGD; tuning step size.</pre>"
      ],
      "text/plain": [
       "  Optimizing model using SGD; tuning step size."
      ]
     },
     "metadata": {},
     "output_type": "display_data"
    },
    {
     "data": {
      "text/html": [
       "<pre>  Using 753411 / 6027295 points for tuning the step size.</pre>"
      ],
      "text/plain": [
       "  Using 753411 / 6027295 points for tuning the step size."
      ]
     },
     "metadata": {},
     "output_type": "display_data"
    },
    {
     "data": {
      "text/html": [
       "<pre>+---------+-------------------+------------------------------------------+</pre>"
      ],
      "text/plain": [
       "+---------+-------------------+------------------------------------------+"
      ]
     },
     "metadata": {},
     "output_type": "display_data"
    },
    {
     "data": {
      "text/html": [
       "<pre>| Attempt | Initial Step Size | Estimated Objective Value                |</pre>"
      ],
      "text/plain": [
       "| Attempt | Initial Step Size | Estimated Objective Value                |"
      ]
     },
     "metadata": {},
     "output_type": "display_data"
    },
    {
     "data": {
      "text/html": [
       "<pre>+---------+-------------------+------------------------------------------+</pre>"
      ],
      "text/plain": [
       "+---------+-------------------+------------------------------------------+"
      ]
     },
     "metadata": {},
     "output_type": "display_data"
    },
    {
     "data": {
      "text/html": [
       "<pre>| 0       | 25                | Not Viable                               |</pre>"
      ],
      "text/plain": [
       "| 0       | 25                | Not Viable                               |"
      ]
     },
     "metadata": {},
     "output_type": "display_data"
    },
    {
     "data": {
      "text/html": [
       "<pre>| 1       | 6.25              | Not Viable                               |</pre>"
      ],
      "text/plain": [
       "| 1       | 6.25              | Not Viable                               |"
      ]
     },
     "metadata": {},
     "output_type": "display_data"
    },
    {
     "data": {
      "text/html": [
       "<pre>| 2       | 1.5625            | Not Viable                               |</pre>"
      ],
      "text/plain": [
       "| 2       | 1.5625            | Not Viable                               |"
      ]
     },
     "metadata": {},
     "output_type": "display_data"
    },
    {
     "data": {
      "text/html": [
       "<pre>| 3       | 0.390625          | Not Viable                               |</pre>"
      ],
      "text/plain": [
       "| 3       | 0.390625          | Not Viable                               |"
      ]
     },
     "metadata": {},
     "output_type": "display_data"
    },
    {
     "data": {
      "text/html": [
       "<pre>| 4       | 0.0976562         | Not Viable                               |</pre>"
      ],
      "text/plain": [
       "| 4       | 0.0976562         | Not Viable                               |"
      ]
     },
     "metadata": {},
     "output_type": "display_data"
    },
    {
     "data": {
      "text/html": [
       "<pre>| 5       | 0.0244141         | 4.03442                                  |</pre>"
      ],
      "text/plain": [
       "| 5       | 0.0244141         | 4.03442                                  |"
      ]
     },
     "metadata": {},
     "output_type": "display_data"
    },
    {
     "data": {
      "text/html": [
       "<pre>| 6       | 0.012207          | 4.77773                                  |</pre>"
      ],
      "text/plain": [
       "| 6       | 0.012207          | 4.77773                                  |"
      ]
     },
     "metadata": {},
     "output_type": "display_data"
    },
    {
     "data": {
      "text/html": [
       "<pre>| 7       | 0.00610352        | 5.1674                                   |</pre>"
      ],
      "text/plain": [
       "| 7       | 0.00610352        | 5.1674                                   |"
      ]
     },
     "metadata": {},
     "output_type": "display_data"
    },
    {
     "data": {
      "text/html": [
       "<pre>| 8       | 0.00305176        | 5.5374                                   |</pre>"
      ],
      "text/plain": [
       "| 8       | 0.00305176        | 5.5374                                   |"
      ]
     },
     "metadata": {},
     "output_type": "display_data"
    },
    {
     "data": {
      "text/html": [
       "<pre>+---------+-------------------+------------------------------------------+</pre>"
      ],
      "text/plain": [
       "+---------+-------------------+------------------------------------------+"
      ]
     },
     "metadata": {},
     "output_type": "display_data"
    },
    {
     "data": {
      "text/html": [
       "<pre>| Final   | 0.0244141         | 4.03442                                  |</pre>"
      ],
      "text/plain": [
       "| Final   | 0.0244141         | 4.03442                                  |"
      ]
     },
     "metadata": {},
     "output_type": "display_data"
    },
    {
     "data": {
      "text/html": [
       "<pre>+---------+-------------------+------------------------------------------+</pre>"
      ],
      "text/plain": [
       "+---------+-------------------+------------------------------------------+"
      ]
     },
     "metadata": {},
     "output_type": "display_data"
    },
    {
     "data": {
      "text/html": [
       "<pre>Starting Optimization.</pre>"
      ],
      "text/plain": [
       "Starting Optimization."
      ]
     },
     "metadata": {},
     "output_type": "display_data"
    },
    {
     "data": {
      "text/html": [
       "<pre>+---------+--------------+-------------------+-----------------------+-------------+</pre>"
      ],
      "text/plain": [
       "+---------+--------------+-------------------+-----------------------+-------------+"
      ]
     },
     "metadata": {},
     "output_type": "display_data"
    },
    {
     "data": {
      "text/html": [
       "<pre>| Iter.   | Elapsed Time | Approx. Objective | Approx. Training RMSE | Step Size   |</pre>"
      ],
      "text/plain": [
       "| Iter.   | Elapsed Time | Approx. Objective | Approx. Training RMSE | Step Size   |"
      ]
     },
     "metadata": {},
     "output_type": "display_data"
    },
    {
     "data": {
      "text/html": [
       "<pre>+---------+--------------+-------------------+-----------------------+-------------+</pre>"
      ],
      "text/plain": [
       "+---------+--------------+-------------------+-----------------------+-------------+"
      ]
     },
     "metadata": {},
     "output_type": "display_data"
    },
    {
     "data": {
      "text/html": [
       "<pre>| Initial | 81us         | 6.52405           | 1.82418               |             |</pre>"
      ],
      "text/plain": [
       "| Initial | 81us         | 6.52405           | 1.82418               |             |"
      ]
     },
     "metadata": {},
     "output_type": "display_data"
    },
    {
     "data": {
      "text/html": [
       "<pre>+---------+--------------+-------------------+-----------------------+-------------+</pre>"
      ],
      "text/plain": [
       "+---------+--------------+-------------------+-----------------------+-------------+"
      ]
     },
     "metadata": {},
     "output_type": "display_data"
    },
    {
     "data": {
      "text/html": [
       "<pre>| 1       | 2.45s        | 4.44932           | 1.59475               | 0.0244141   |</pre>"
      ],
      "text/plain": [
       "| 1       | 2.45s        | 4.44932           | 1.59475               | 0.0244141   |"
      ]
     },
     "metadata": {},
     "output_type": "display_data"
    },
    {
     "data": {
      "text/html": [
       "<pre>| 2       | 4.87s        | 3.58891           | 1.51529               | 0.0145167   |</pre>"
      ],
      "text/plain": [
       "| 2       | 4.87s        | 3.58891           | 1.51529               | 0.0145167   |"
      ]
     },
     "metadata": {},
     "output_type": "display_data"
    },
    {
     "data": {
      "text/html": [
       "<pre>| 3       | 7.27s        | 3.21412           | 1.45367               | 0.0107102   |</pre>"
      ],
      "text/plain": [
       "| 3       | 7.27s        | 3.21412           | 1.45367               | 0.0107102   |"
      ]
     },
     "metadata": {},
     "output_type": "display_data"
    },
    {
     "data": {
      "text/html": [
       "<pre>| 4       | 9.64s        | 2.97394           | 1.40992               | 0.00863167  |</pre>"
      ],
      "text/plain": [
       "| 4       | 9.64s        | 2.97394           | 1.40992               | 0.00863167  |"
      ]
     },
     "metadata": {},
     "output_type": "display_data"
    },
    {
     "data": {
      "text/html": [
       "<pre>| 5       | 12.04s       | 2.80187           | 1.37445               | 0.00730151  |</pre>"
      ],
      "text/plain": [
       "| 5       | 12.04s       | 2.80187           | 1.37445               | 0.00730151  |"
      ]
     },
     "metadata": {},
     "output_type": "display_data"
    },
    {
     "data": {
      "text/html": [
       "<pre>| 6       | 14.42s       | 2.6681            | 1.34574               | 0.00636835  |</pre>"
      ],
      "text/plain": [
       "| 6       | 14.42s       | 2.6681            | 1.34574               | 0.00636835  |"
      ]
     },
     "metadata": {},
     "output_type": "display_data"
    },
    {
     "data": {
      "text/html": [
       "<pre>| 7       | 16.77s       | 2.56074           | 1.32178               | 0.00567305  |</pre>"
      ],
      "text/plain": [
       "| 7       | 16.77s       | 2.56074           | 1.32178               | 0.00567305  |"
      ]
     },
     "metadata": {},
     "output_type": "display_data"
    },
    {
     "data": {
      "text/html": [
       "<pre>| 8       | 19.22s       | 2.47152           | 1.30091               | 0.00513242  |</pre>"
      ],
      "text/plain": [
       "| 8       | 19.22s       | 2.47152           | 1.30091               | 0.00513242  |"
      ]
     },
     "metadata": {},
     "output_type": "display_data"
    },
    {
     "data": {
      "text/html": [
       "<pre>| 9       | 21.57s       | 2.39577           | 1.28341               | 0.00469849  |</pre>"
      ],
      "text/plain": [
       "| 9       | 21.57s       | 2.39577           | 1.28341               | 0.00469849  |"
      ]
     },
     "metadata": {},
     "output_type": "display_data"
    },
    {
     "data": {
      "text/html": [
       "<pre>| 10      | 23.91s       | 2.33137           | 1.26767               | 0.0043415   |</pre>"
      ],
      "text/plain": [
       "| 10      | 23.91s       | 2.33137           | 1.26767               | 0.0043415   |"
      ]
     },
     "metadata": {},
     "output_type": "display_data"
    },
    {
     "data": {
      "text/html": [
       "<pre>| 11      | 26.22s       | 2.27383           | 1.2538                | 0.00404199  |</pre>"
      ],
      "text/plain": [
       "| 11      | 26.22s       | 2.27383           | 1.2538                | 0.00404199  |"
      ]
     },
     "metadata": {},
     "output_type": "display_data"
    },
    {
     "data": {
      "text/html": [
       "<pre>| 12      | 28.60s       | 2.22353           | 1.24162               | 0.00378664  |</pre>"
      ],
      "text/plain": [
       "| 12      | 28.60s       | 2.22353           | 1.24162               | 0.00378664  |"
      ]
     },
     "metadata": {},
     "output_type": "display_data"
    },
    {
     "data": {
      "text/html": [
       "<pre>| 13      | 30.96s       | 2.17899           | 1.23056               | 0.00356601  |</pre>"
      ],
      "text/plain": [
       "| 13      | 30.96s       | 2.17899           | 1.23056               | 0.00356601  |"
      ]
     },
     "metadata": {},
     "output_type": "display_data"
    },
    {
     "data": {
      "text/html": [
       "<pre>| 14      | 33.26s       | 2.13806           | 1.22029               | 0.00337322  |</pre>"
      ],
      "text/plain": [
       "| 14      | 33.26s       | 2.13806           | 1.22029               | 0.00337322  |"
      ]
     },
     "metadata": {},
     "output_type": "display_data"
    },
    {
     "data": {
      "text/html": [
       "<pre>| 15      | 35.68s       | 2.10169           | 1.21157               | 0.00320311  |</pre>"
      ],
      "text/plain": [
       "| 15      | 35.68s       | 2.10169           | 1.21157               | 0.00320311  |"
      ]
     },
     "metadata": {},
     "output_type": "display_data"
    },
    {
     "data": {
      "text/html": [
       "<pre>| 16      | 38.02s       | 2.06898           | 1.20324               | 0.00305176  |</pre>"
      ],
      "text/plain": [
       "| 16      | 38.02s       | 2.06898           | 1.20324               | 0.00305176  |"
      ]
     },
     "metadata": {},
     "output_type": "display_data"
    },
    {
     "data": {
      "text/html": [
       "<pre>| 17      | 40.30s       | 2.0385            | 1.19568               | 0.00291611  |</pre>"
      ],
      "text/plain": [
       "| 17      | 40.30s       | 2.0385            | 1.19568               | 0.00291611  |"
      ]
     },
     "metadata": {},
     "output_type": "display_data"
    },
    {
     "data": {
      "text/html": [
       "<pre>| 18      | 42.81s       | 2.00973           | 1.18868               | 0.00279374  |</pre>"
      ],
      "text/plain": [
       "| 18      | 42.81s       | 2.00973           | 1.18868               | 0.00279374  |"
      ]
     },
     "metadata": {},
     "output_type": "display_data"
    },
    {
     "data": {
      "text/html": [
       "<pre>| 19      | 45.53s       | 1.98456           | 1.18227               | 0.00268272  |</pre>"
      ],
      "text/plain": [
       "| 19      | 45.53s       | 1.98456           | 1.18227               | 0.00268272  |"
      ]
     },
     "metadata": {},
     "output_type": "display_data"
    },
    {
     "data": {
      "text/html": [
       "<pre>| 20      | 47.96s       | 1.96083           | 1.17635               | 0.00258147  |</pre>"
      ],
      "text/plain": [
       "| 20      | 47.96s       | 1.96083           | 1.17635               | 0.00258147  |"
      ]
     },
     "metadata": {},
     "output_type": "display_data"
    },
    {
     "data": {
      "text/html": [
       "<pre>| 21      | 50.35s       | 1.93822           | 1.17071               | 0.00248872  |</pre>"
      ],
      "text/plain": [
       "| 21      | 50.35s       | 1.93822           | 1.17071               | 0.00248872  |"
      ]
     },
     "metadata": {},
     "output_type": "display_data"
    },
    {
     "data": {
      "text/html": [
       "<pre>| 22      | 52.79s       | 1.91723           | 1.16553               | 0.00240338  |</pre>"
      ],
      "text/plain": [
       "| 22      | 52.79s       | 1.91723           | 1.16553               | 0.00240338  |"
      ]
     },
     "metadata": {},
     "output_type": "display_data"
    },
    {
     "data": {
      "text/html": [
       "<pre>| 23      | 55.29s       | 1.8991            | 1.16062               | 0.00232458  |</pre>"
      ],
      "text/plain": [
       "| 23      | 55.29s       | 1.8991            | 1.16062               | 0.00232458  |"
      ]
     },
     "metadata": {},
     "output_type": "display_data"
    },
    {
     "data": {
      "text/html": [
       "<pre>| 24      | 57.98s       | 1.88028           | 1.15611               | 0.00225155  |</pre>"
      ],
      "text/plain": [
       "| 24      | 57.98s       | 1.88028           | 1.15611               | 0.00225155  |"
      ]
     },
     "metadata": {},
     "output_type": "display_data"
    },
    {
     "data": {
      "text/html": [
       "<pre>| 25      | 1m 0s        | 1.86311           | 1.15182               | 0.00218366  |</pre>"
      ],
      "text/plain": [
       "| 25      | 1m 0s        | 1.86311           | 1.15182               | 0.00218366  |"
      ]
     },
     "metadata": {},
     "output_type": "display_data"
    },
    {
     "data": {
      "text/html": [
       "<pre>+---------+--------------+-------------------+-----------------------+-------------+</pre>"
      ],
      "text/plain": [
       "+---------+--------------+-------------------+-----------------------+-------------+"
      ]
     },
     "metadata": {},
     "output_type": "display_data"
    },
    {
     "data": {
      "text/html": [
       "<pre>Optimization Complete: Maximum number of passes through the data reached.</pre>"
      ],
      "text/plain": [
       "Optimization Complete: Maximum number of passes through the data reached."
      ]
     },
     "metadata": {},
     "output_type": "display_data"
    },
    {
     "data": {
      "text/html": [
       "<pre>Computing final objective value and training RMSE.</pre>"
      ],
      "text/plain": [
       "Computing final objective value and training RMSE."
      ]
     },
     "metadata": {},
     "output_type": "display_data"
    },
    {
     "data": {
      "text/html": [
       "<pre>       Final objective value: 1.79033</pre>"
      ],
      "text/plain": [
       "       Final objective value: 1.79033"
      ]
     },
     "metadata": {},
     "output_type": "display_data"
    },
    {
     "data": {
      "text/html": [
       "<pre>       Final training RMSE: 1.12102</pre>"
      ],
      "text/plain": [
       "       Final training RMSE: 1.12102"
      ]
     },
     "metadata": {},
     "output_type": "display_data"
    }
   ],
   "source": [
    "# split train and test\n",
    "training_data, validation_data = gl.recommender.util.random_split_by_user(sf,\n",
    "                                                                          user_id='user_id',\n",
    "                                                                          item_id='music_id',\n",
    "                                                                          max_num_users=1000,\n",
    "                                                                          item_test_proportion=0.2,\n",
    "                                                                          random_seed=0)\n",
    "\n",
    "# generate recommendation model\n",
    "m1 = gl.factorization_recommender.create(training_data, 'user_id', 'music_id', target='rating')\n",
    "m2 = gl.ranking_factorization_recommender.create(training_data, 'user_id', 'music_id', target='rating')"
   ]
  },
  {
   "cell_type": "code",
   "execution_count": 5,
   "metadata": {
    "collapsed": false
   },
   "outputs": [
    {
     "name": "stdout",
     "output_type": "stream",
     "text": [
      "PROGRESS: Evaluate model m1\n",
      "\n",
      "Precision and recall summary statistics by cutoff\n",
      "+--------+----------------+-------------+\n",
      "| cutoff | mean_precision | mean_recall |\n",
      "+--------+----------------+-------------+\n",
      "|   1    |      0.0       |     0.0     |\n",
      "|   2    |      0.0       |     0.0     |\n",
      "|   3    |      0.0       |     0.0     |\n",
      "|   4    |      0.0       |     0.0     |\n",
      "|   5    |      0.0       |     0.0     |\n",
      "|   6    |      0.0       |     0.0     |\n",
      "|   7    |      0.0       |     0.0     |\n",
      "|   8    |      0.0       |     0.0     |\n",
      "|   9    |      0.0       |     0.0     |\n",
      "|   10   |      0.0       |     0.0     |\n",
      "+--------+----------------+-------------+\n",
      "[10 rows x 3 columns]\n",
      "\n",
      "('\\nOverall RMSE: ', 1.661878172886328)\n",
      "\n",
      "Per User RMSE (best)\n",
      "+-----------+-------+-------------------+\n",
      "|  user_id  | count |        rmse       |\n",
      "+-----------+-------+-------------------+\n",
      "| 154622212 |   1   | 4.93570826152e-05 |\n",
      "+-----------+-------+-------------------+\n",
      "[1 rows x 3 columns]\n",
      "\n",
      "\n",
      "Per User RMSE (worst)\n",
      "+-----------+-------+---------------+\n",
      "|  user_id  | count |      rmse     |\n",
      "+-----------+-------+---------------+\n",
      "| 154768587 |   1   | 5.12302550876 |\n",
      "+-----------+-------+---------------+\n",
      "[1 rows x 3 columns]\n",
      "\n",
      "\n",
      "Per Item RMSE (best)\n",
      "+----------+-------+------------------+\n",
      "| music_id | count |       rmse       |\n",
      "+----------+-------+------------------+\n",
      "|  119911  |   1   | 2.8731459186e-05 |\n",
      "+----------+-------+------------------+\n",
      "[1 rows x 3 columns]\n",
      "\n",
      "\n",
      "Per Item RMSE (worst)\n",
      "+----------+-------+---------------+\n",
      "| music_id | count |      rmse     |\n",
      "+----------+-------+---------------+\n",
      "| 6963400  |   1   | 6.30340263045 |\n",
      "+----------+-------+---------------+\n",
      "[1 rows x 3 columns]\n",
      "\n",
      "PROGRESS: Evaluate model m2\n",
      "\n",
      "Precision and recall summary statistics by cutoff\n",
      "+--------+------------------+------------------+\n",
      "| cutoff |  mean_precision  |   mean_recall    |\n",
      "+--------+------------------+------------------+\n",
      "|   1    | 0.00391644908616 | 0.00103251839544 |\n",
      "|   2    | 0.0032637075718  | 0.00135950263149 |\n",
      "|   3    | 0.00435161009574 | 0.00236036477379 |\n",
      "|   4    | 0.00424281984334 | 0.00379639610538 |\n",
      "|   5    | 0.00443864229765 | 0.00738647443437 |\n",
      "|   6    | 0.00391644908616 | 0.00782163544394 |\n",
      "|   7    | 0.00447594181276 | 0.00976172827829 |\n",
      "|   8    | 0.00505874673629 | 0.0112485112995  |\n",
      "|   9    | 0.00464171743545 | 0.0115096079052  |\n",
      "|   10   | 0.00443864229765 | 0.0123255347982  |\n",
      "+--------+------------------+------------------+\n",
      "[10 rows x 3 columns]\n",
      "\n",
      "('\\nOverall RMSE: ', 1.8521723757404718)\n",
      "\n",
      "Per User RMSE (best)\n",
      "+-----------+-------+------------------+\n",
      "|  user_id  | count |       rmse       |\n",
      "+-----------+-------+------------------+\n",
      "| 154787076 |   1   | 0.00808247721809 |\n",
      "+-----------+-------+------------------+\n",
      "[1 rows x 3 columns]\n",
      "\n",
      "\n",
      "Per User RMSE (worst)\n",
      "+-----------+-------+---------------+\n",
      "|  user_id  | count |      rmse     |\n",
      "+-----------+-------+---------------+\n",
      "| 154423930 |   1   | 3.94143479147 |\n",
      "+-----------+-------+---------------+\n",
      "[1 rows x 3 columns]\n",
      "\n",
      "\n",
      "Per Item RMSE (best)\n",
      "+----------+-------+-------------------+\n",
      "| music_id | count |        rmse       |\n",
      "+----------+-------+-------------------+\n",
      "|  77202   |   2   | 0.000283209449228 |\n",
      "+----------+-------+-------------------+\n",
      "[1 rows x 3 columns]\n",
      "\n",
      "\n",
      "Per Item RMSE (worst)\n",
      "+----------+-------+---------------+\n",
      "| music_id | count |      rmse     |\n",
      "+----------+-------+---------------+\n",
      "|  640044  |   1   | 7.73593411052 |\n",
      "+----------+-------+---------------+\n",
      "[1 rows x 3 columns]\n",
      "\n"
     ]
    },
    {
     "data": {
      "text/plain": [
       "[{'precision_recall_by_user': Columns:\n",
       "  \tuser_id\tint\n",
       "  \tcutoff\tint\n",
       "  \tprecision\tfloat\n",
       "  \trecall\tfloat\n",
       "  \tcount\tint\n",
       "  \n",
       "  Rows: 13788\n",
       "  \n",
       "  Data:\n",
       "  +----------+--------+-----------+--------+-------+\n",
       "  | user_id  | cutoff | precision | recall | count |\n",
       "  +----------+--------+-----------+--------+-------+\n",
       "  | 28638487 |   1    |    0.0    |  0.0   |  2128 |\n",
       "  | 28638487 |   2    |    0.0    |  0.0   |  2128 |\n",
       "  | 28638487 |   3    |    0.0    |  0.0   |  2128 |\n",
       "  | 28638487 |   4    |    0.0    |  0.0   |  2128 |\n",
       "  | 28638487 |   5    |    0.0    |  0.0   |  2128 |\n",
       "  | 28638487 |   6    |    0.0    |  0.0   |  2128 |\n",
       "  | 28638487 |   7    |    0.0    |  0.0   |  2128 |\n",
       "  | 28638487 |   8    |    0.0    |  0.0   |  2128 |\n",
       "  | 28638487 |   9    |    0.0    |  0.0   |  2128 |\n",
       "  | 28638487 |   10   |    0.0    |  0.0   |  2128 |\n",
       "  +----------+--------+-----------+--------+-------+\n",
       "  [13788 rows x 5 columns]\n",
       "  Note: Only the head of the SFrame is printed.\n",
       "  You can use print_rows(num_rows=m, num_columns=n) to print more rows and columns.,\n",
       "  'precision_recall_overall': Columns:\n",
       "  \tcutoff\tint\n",
       "  \tprecision\tfloat\n",
       "  \trecall\tfloat\n",
       "  \n",
       "  Rows: 18\n",
       "  \n",
       "  Data:\n",
       "  +--------+-----------+--------+\n",
       "  | cutoff | precision | recall |\n",
       "  +--------+-----------+--------+\n",
       "  |   1    |    0.0    |  0.0   |\n",
       "  |   2    |    0.0    |  0.0   |\n",
       "  |   3    |    0.0    |  0.0   |\n",
       "  |   4    |    0.0    |  0.0   |\n",
       "  |   5    |    0.0    |  0.0   |\n",
       "  |   6    |    0.0    |  0.0   |\n",
       "  |   7    |    0.0    |  0.0   |\n",
       "  |   8    |    0.0    |  0.0   |\n",
       "  |   9    |    0.0    |  0.0   |\n",
       "  |   10   |    0.0    |  0.0   |\n",
       "  +--------+-----------+--------+\n",
       "  [18 rows x 3 columns]\n",
       "  Note: Only the head of the SFrame is printed.\n",
       "  You can use print_rows(num_rows=m, num_columns=n) to print more rows and columns.,\n",
       "  'rmse_by_item': Columns:\n",
       "  \tmusic_id\tint\n",
       "  \tcount\tint\n",
       "  \trmse\tfloat\n",
       "  \n",
       "  Rows: 4929\n",
       "  \n",
       "  Data:\n",
       "  +----------+-------+----------------+\n",
       "  | music_id | count |      rmse      |\n",
       "  +----------+-------+----------------+\n",
       "  | 4215243  |   1   | 0.208727059728 |\n",
       "  |  125969  |   1   | 3.49896611071  |\n",
       "  |  116527  |   1   | 0.219704983598 |\n",
       "  | 4841547  |   2   | 1.67923347742  |\n",
       "  | 4019993  |   2   | 0.979111912573 |\n",
       "  | 2311377  |   1   | 0.956885637873 |\n",
       "  | 7095126  |   1   | 0.342436192399 |\n",
       "  | 15742932 |   1   | 0.522572877043 |\n",
       "  | 6400617  |   1   | 1.55285085195  |\n",
       "  | 10346331 |   1   | 3.36434110797  |\n",
       "  +----------+-------+----------------+\n",
       "  [4929 rows x 3 columns]\n",
       "  Note: Only the head of the SFrame is printed.\n",
       "  You can use print_rows(num_rows=m, num_columns=n) to print more rows and columns.,\n",
       "  'rmse_by_user': Columns:\n",
       "  \tuser_id\tint\n",
       "  \tcount\tint\n",
       "  \trmse\tfloat\n",
       "  \n",
       "  Rows: 766\n",
       "  \n",
       "  Data:\n",
       "  +-----------+-------+----------------+\n",
       "  |  user_id  | count |      rmse      |\n",
       "  +-----------+-------+----------------+\n",
       "  | 154785752 |   2   | 3.01498740049  |\n",
       "  | 154571942 |   38  | 2.04402053327  |\n",
       "  | 154477748 |   24  | 2.40307380372  |\n",
       "  | 154747640 |   9   | 3.04449956857  |\n",
       "  | 154641807 |   35  | 1.53691614932  |\n",
       "  | 154579899 |   5   | 0.20287159189  |\n",
       "  | 154557814 |   13  | 1.56912082008  |\n",
       "  | 154756165 |   1   | 0.688440846437 |\n",
       "  | 154442178 |   1   |  1.9090716561  |\n",
       "  | 154697638 |   13  | 0.307301460296 |\n",
       "  +-----------+-------+----------------+\n",
       "  [766 rows x 3 columns]\n",
       "  Note: Only the head of the SFrame is printed.\n",
       "  You can use print_rows(num_rows=m, num_columns=n) to print more rows and columns.,\n",
       "  'rmse_overall': 1.661878172886328},\n",
       " {'precision_recall_by_user': Columns:\n",
       "  \tuser_id\tint\n",
       "  \tcutoff\tint\n",
       "  \tprecision\tfloat\n",
       "  \trecall\tfloat\n",
       "  \tcount\tint\n",
       "  \n",
       "  Rows: 13788\n",
       "  \n",
       "  Data:\n",
       "  +----------+--------+----------------+------------------+-------+\n",
       "  | user_id  | cutoff |   precision    |      recall      | count |\n",
       "  +----------+--------+----------------+------------------+-------+\n",
       "  | 28638487 |   1    |      0.0       |       0.0        |  2128 |\n",
       "  | 28638487 |   2    |      0.5       | 0.00046992481203 |  2128 |\n",
       "  | 28638487 |   3    | 0.666666666667 | 0.00093984962406 |  2128 |\n",
       "  | 28638487 |   4    |      0.5       | 0.00093984962406 |  2128 |\n",
       "  | 28638487 |   5    |      0.4       | 0.00093984962406 |  2128 |\n",
       "  | 28638487 |   6    | 0.333333333333 | 0.00093984962406 |  2128 |\n",
       "  | 28638487 |   7    | 0.285714285714 | 0.00093984962406 |  2128 |\n",
       "  | 28638487 |   8    |      0.25      | 0.00093984962406 |  2128 |\n",
       "  | 28638487 |   9    | 0.222222222222 | 0.00093984962406 |  2128 |\n",
       "  | 28638487 |   10   |      0.2       | 0.00093984962406 |  2128 |\n",
       "  +----------+--------+----------------+------------------+-------+\n",
       "  [13788 rows x 5 columns]\n",
       "  Note: Only the head of the SFrame is printed.\n",
       "  You can use print_rows(num_rows=m, num_columns=n) to print more rows and columns.,\n",
       "  'precision_recall_overall': Columns:\n",
       "  \tcutoff\tint\n",
       "  \tprecision\tfloat\n",
       "  \trecall\tfloat\n",
       "  \n",
       "  Rows: 18\n",
       "  \n",
       "  Data:\n",
       "  +--------+------------------+------------------+\n",
       "  | cutoff |    precision     |      recall      |\n",
       "  +--------+------------------+------------------+\n",
       "  |   1    | 0.00391644908616 | 0.00103251839544 |\n",
       "  |   2    | 0.0032637075718  | 0.00135950263149 |\n",
       "  |   3    | 0.00435161009574 | 0.00236036477379 |\n",
       "  |   4    | 0.00424281984334 | 0.00379639610538 |\n",
       "  |   5    | 0.00443864229765 | 0.00738647443437 |\n",
       "  |   6    | 0.00391644908616 | 0.00782163544394 |\n",
       "  |   7    | 0.00447594181276 | 0.00976172827829 |\n",
       "  |   8    | 0.00505874673629 | 0.0112485112995  |\n",
       "  |   9    | 0.00464171743545 | 0.0115096079052  |\n",
       "  |   10   | 0.00443864229765 | 0.0123255347982  |\n",
       "  +--------+------------------+------------------+\n",
       "  [18 rows x 3 columns]\n",
       "  Note: Only the head of the SFrame is printed.\n",
       "  You can use print_rows(num_rows=m, num_columns=n) to print more rows and columns.,\n",
       "  'rmse_by_item': Columns:\n",
       "  \tmusic_id\tint\n",
       "  \tcount\tint\n",
       "  \trmse\tfloat\n",
       "  \n",
       "  Rows: 4929\n",
       "  \n",
       "  Data:\n",
       "  +----------+-------+----------------+\n",
       "  | music_id | count |      rmse      |\n",
       "  +----------+-------+----------------+\n",
       "  | 4215243  |   1   | 0.475762812263 |\n",
       "  |  125969  |   1   | 2.55474384672  |\n",
       "  |  116527  |   1   | 4.91345492207  |\n",
       "  | 4841547  |   2   | 1.59190273428  |\n",
       "  | 4019993  |   2   | 1.15330278358  |\n",
       "  | 2311377  |   1   | 3.22947219216  |\n",
       "  | 7095126  |   1   | 0.37639477647  |\n",
       "  | 15742932 |   1   | 0.839647324914 |\n",
       "  | 6400617  |   1   | 1.17796114289  |\n",
       "  | 10346331 |   1   | 2.23324993051  |\n",
       "  +----------+-------+----------------+\n",
       "  [4929 rows x 3 columns]\n",
       "  Note: Only the head of the SFrame is printed.\n",
       "  You can use print_rows(num_rows=m, num_columns=n) to print more rows and columns.,\n",
       "  'rmse_by_user': Columns:\n",
       "  \tuser_id\tint\n",
       "  \tcount\tint\n",
       "  \trmse\tfloat\n",
       "  \n",
       "  Rows: 766\n",
       "  \n",
       "  Data:\n",
       "  +-----------+-------+----------------+\n",
       "  |  user_id  | count |      rmse      |\n",
       "  +-----------+-------+----------------+\n",
       "  | 154785752 |   2   | 1.30100964668  |\n",
       "  | 154571942 |   38  | 2.26543941949  |\n",
       "  | 154477748 |   24  | 2.33409291704  |\n",
       "  | 154747640 |   9   |  1.7851478379  |\n",
       "  | 154641807 |   35  | 1.44306489783  |\n",
       "  | 154579899 |   5   | 0.263827818914 |\n",
       "  | 154557814 |   13  | 1.54234366694  |\n",
       "  | 154756165 |   1   | 0.144337517983 |\n",
       "  | 154442178 |   1   | 1.16017919981  |\n",
       "  | 154697638 |   13  | 0.664332438918 |\n",
       "  +-----------+-------+----------------+\n",
       "  [766 rows x 3 columns]\n",
       "  Note: Only the head of the SFrame is printed.\n",
       "  You can use print_rows(num_rows=m, num_columns=n) to print more rows and columns.,\n",
       "  'rmse_overall': 1.8521723757404718}]"
      ]
     },
     "execution_count": 5,
     "metadata": {},
     "output_type": "execute_result"
    }
   ],
   "source": [
    "gl.recommender.util.compare_models(validation_data, [m1, m2], model_names=[\"m1\", \"m2\"])"
   ]
  }
 ],
 "metadata": {
  "kernelspec": {
   "display_name": "Python 2",
   "language": "python",
   "name": "python2"
  },
  "language_info": {
   "codemirror_mode": {
    "name": "ipython",
    "version": 2
   },
   "file_extension": ".py",
   "mimetype": "text/x-python",
   "name": "python",
   "nbconvert_exporter": "python",
   "pygments_lexer": "ipython2",
   "version": "2.7.11"
  }
 },
 "nbformat": 4,
 "nbformat_minor": 0
}
